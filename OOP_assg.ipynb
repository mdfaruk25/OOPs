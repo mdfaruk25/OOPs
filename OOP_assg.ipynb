{
 "cells": [
  {
   "cell_type": "markdown",
   "id": "e72142ea-1467-41da-a476-d915f083edbb",
   "metadata": {},
   "source": [
    "1. What is Object-Oriented Programming (OOP)?\n",
    "Ans: In Python Object-Oriented Programming (OOP) is a programming paradigm that uses object and classes in programming.\n",
    "It aims to implement real-world entities like inheritence, polymorphism, encapsulation etc in the programming. The main\n",
    "concept is bind data and functions that work on that together as a single unit so that no other part of code can access \n",
    "that data."
   ]
  },
  {
   "cell_type": "markdown",
   "id": "d3cc062c-e9a6-4c73-8929-791c4482d020",
   "metadata": {},
   "source": [
    "2 What is a class in OOP?\n",
    "Ans: A class is way to bind the data describing an entity and its associated functions together. Child class can inherited the\n",
    "property of Parent class.\n",
    "Ex.\n",
    "class a:\n",
    "    def __int__(self):\n",
    "        pass\n",
    "    def display(self):\n",
    "        print(\"display method\")\n",
    "n=a()\n",
    "n.display()"
   ]
  },
  {
   "cell_type": "markdown",
   "id": "9cf78192-b11a-4d8e-a3a9-ef02e09ac4ba",
   "metadata": {},
   "source": [
    "3. What is an object in OOP?\n",
    "Ans. An object is a instance of Class. The Class may be parent or child class. With help of object we can access the attributes, methods present in a class.\n",
    "Ex.\n",
    "class Parent:\n",
    "    def parent_info(self):\n",
    "        print(\"This is parent property\")\n",
    "obj=Parent()\n",
    "obj.parent_info()"
   ]
  },
  {
   "cell_type": "markdown",
   "id": "ddae7acb",
   "metadata": {},
   "source": [
    "4. What is the difference between abstraction and encapsulation?\n",
    "Ans. Abstraction method is used in Python to hide complex implementation in program. Abstraction is the method of hiding the unwanted information. Whereas encapsulation is a method to hide the data in a single entity or unit along with a method to protect information from outside\n",
    "Ex. \n",
    "import abc\n",
    "class A:\n",
    "    @abc.abstractmethod              #declaration of abstract method\n",
    "    def display(self):\n",
    "        pass\n",
    "\n",
    "class Encp:\n",
    "    def __int__(self,name,age):\n",
    "        self.name=\"arup\"\n",
    "        self.__age=25   #private data"
   ]
  },
  {
   "cell_type": "markdown",
   "id": "00fa06db-8ea6-4b45-9bdf-3ef95197709e",
   "metadata": {},
   "source": [
    "5. What are dunder methods in Python?\n",
    "Ans: Dunter methods in Python is also called as magic/special methods. These methods are used in Class to initialise attributes.__int__,__str__ etc. are dunter methods. All the method surrunded by double underscore are dunter methods.\n",
    "Ex. class A:\n",
    "        def __int__(self)\n",
    "            self.name=\"Box\"\n",
    "            self.weight=34"
   ]
  },
  {
   "cell_type": "markdown",
   "id": "a6e61ca4-f7dd-4ac7-8169-da8013754653",
   "metadata": {},
   "source": [
    "6. Explain the concept of inheritance in OOP.\n",
    "Ans. Inheritance is the concept where child class derived property of parent class. It is like real life concept where child inherit the property of parent. But, parent class not derived from child class. Child class derived attribute, methods from Parent class. One example mentioned below in this connection.\n",
    "Ex. class Parent:\n",
    "    def occupation(self):       #base method\n",
    "        print(\"Do farming\")\n",
    "class Child:             #Child class\n",
    "    def occupation(self):\n",
    "        print(\"Do office job\")\n",
    "obj_child=Child()\n",
    "obj_child.occupation"
   ]
  },
  {
   "cell_type": "markdown",
   "id": "2e3eb65a-2d6e-44b9-a554-13cd6e8bcaff",
   "metadata": {},
   "source": [
    "7. What is polymorphism in OOP?\n",
    "Ans: Polymorphism is a concept in Object Oriented Progamming where object taken various form depending on method and\n",
    "data. Like len function in Python behave differently based on argument passed.\n",
    "Ex. len(\"This is a sentance\")  # This will return string lenght\n",
    "len([2,3,5,6])                 # This will return no of element in the list"
   ]
  },
  {
   "cell_type": "markdown",
   "id": "f9820c89-d530-4cb3-8daf-f028c27fd26b",
   "metadata": {},
   "source": [
    "8. How is encapsulation achieved in Python?\n",
    "Ans. Encapsulation is a method to hide the data in a single entity or unit along with a method to protect information from outside\n",
    "Ex. \n",
    "class Student:\n",
    "    def __int__(self,name,age):\n",
    "        self.name=\"arup\"\n",
    "        self.__age=25   #private data"
   ]
  },
  {
   "cell_type": "code",
   "execution_count": null,
   "id": "23001a99",
   "metadata": {},
   "outputs": [],
   "source": []
  },
  {
   "cell_type": "code",
   "execution_count": null,
   "id": "35312e3a",
   "metadata": {},
   "outputs": [],
   "source": []
  },
  {
   "cell_type": "code",
   "execution_count": null,
   "id": "e8b3847e-2b3e-453b-ae78-b5526fb67ad8",
   "metadata": {},
   "outputs": [],
   "source": [
    "9."
   ]
  },
  {
   "cell_type": "code",
   "execution_count": null,
   "id": "9b1f494b-aa53-4862-819f-0b7716a123dc",
   "metadata": {},
   "outputs": [],
   "source": [
    "10."
   ]
  },
  {
   "cell_type": "markdown",
   "id": "2c7e8cac-6b01-4958-9f5a-cb5b72d2cc51",
   "metadata": {},
   "source": [
    "11. What is method overloading in Python?\n",
    "Ans: Method Overloading is a process where method with same name behave differently based on type of arguement passed.\n",
    "Ex.\n",
    "lass Car:\n",
    "    def fun(self):\n",
    "        print(\"Constructor\")\n",
    "    def fun(self,name=\"\"):\n",
    "        print(\"The car name\",self.name)\n",
    "    def fun(self,name=\"\",color=\"\"):\n",
    "        print(f\"The car{name} with color{color}\")"
   ]
  },
  {
   "cell_type": "code",
   "execution_count": null,
   "id": "9600e085-ab13-403e-97eb-1d49c72009bb",
   "metadata": {},
   "outputs": [],
   "source": [
    "12."
   ]
  },
  {
   "cell_type": "code",
   "execution_count": null,
   "id": "64d4cc75-2889-4efa-a263-974852d5dd03",
   "metadata": {},
   "outputs": [],
   "source": [
    "13."
   ]
  },
  {
   "cell_type": "code",
   "execution_count": null,
   "id": "06426c2b-b448-4b85-8eec-78481585de9d",
   "metadata": {},
   "outputs": [],
   "source": [
    "14."
   ]
  },
  {
   "cell_type": "code",
   "execution_count": null,
   "id": "ad5cff7f-860f-4ae1-9a59-d5e02f4c1602",
   "metadata": {},
   "outputs": [],
   "source": [
    "15."
   ]
  },
  {
   "cell_type": "code",
   "execution_count": null,
   "id": "f3c12c05-a84c-47f5-9f59-9d1224c5154e",
   "metadata": {},
   "outputs": [],
   "source": [
    "16."
   ]
  },
  {
   "cell_type": "code",
   "execution_count": null,
   "id": "a5ab03a9-7466-46f0-bebd-931a893c868a",
   "metadata": {},
   "outputs": [],
   "source": [
    "17."
   ]
  },
  {
   "cell_type": "code",
   "execution_count": null,
   "id": "d2e5d10f-efe9-4f8b-86d7-e79aaf0114da",
   "metadata": {},
   "outputs": [],
   "source": [
    "18."
   ]
  },
  {
   "cell_type": "code",
   "execution_count": null,
   "id": "7ae9741c-40f0-4555-8126-78a34b431b63",
   "metadata": {},
   "outputs": [],
   "source": [
    "19."
   ]
  },
  {
   "cell_type": "code",
   "execution_count": null,
   "id": "74a10c66-5d18-4a41-b121-2d5ea1032de0",
   "metadata": {},
   "outputs": [],
   "source": [
    "20"
   ]
  },
  {
   "cell_type": "code",
   "execution_count": null,
   "id": "0d45b30b-935b-44c7-a870-778762088f9a",
   "metadata": {},
   "outputs": [],
   "source": [
    "21"
   ]
  },
  {
   "cell_type": "code",
   "execution_count": null,
   "id": "60a965f6-6256-44f9-8615-9f07ff16e8fb",
   "metadata": {},
   "outputs": [],
   "source": [
    "22"
   ]
  },
  {
   "cell_type": "code",
   "execution_count": null,
   "id": "259ee7fc-5038-4f15-9c3d-33fcb4a4c85a",
   "metadata": {},
   "outputs": [],
   "source": [
    "23"
   ]
  },
  {
   "cell_type": "code",
   "execution_count": null,
   "id": "6985734a-eecf-49b0-abaf-dd93a38c5452",
   "metadata": {},
   "outputs": [],
   "source": [
    "24"
   ]
  },
  {
   "cell_type": "code",
   "execution_count": null,
   "id": "62007ed8-997c-4211-9d5e-3369dc4bd730",
   "metadata": {},
   "outputs": [],
   "source": [
    "25"
   ]
  },
  {
   "cell_type": "markdown",
   "id": "8f53e17e-3de9-4b9a-ab55-150860c9303e",
   "metadata": {},
   "source": [
    "Practical"
   ]
  },
  {
   "cell_type": "code",
   "execution_count": 8,
   "id": "f6ad059b-cf18-42a8-b6a0-339a1e3c6c3b",
   "metadata": {},
   "outputs": [
    {
     "name": "stdout",
     "output_type": "stream",
     "text": [
      "Bark!\n"
     ]
    }
   ],
   "source": [
    "'''1. Create a parent class Animal with a method speak() that prints a generic message. Create a child class Dog\n",
    "that overrides the speak() method to print \"Bark!\".'''\n",
    "\n",
    "class Animal:\n",
    "    def speak(self):\n",
    "        print(\"Animal sound\")\n",
    "class Dog(Animal):\n",
    "    def speak(self):\n",
    "        print(\"Bark!\")\n",
    "p=Dog()\n",
    "p.speak()"
   ]
  },
  {
   "cell_type": "code",
   "execution_count": null,
   "id": "16342068-8572-41c5-8478-d2ef1067bfce",
   "metadata": {},
   "outputs": [],
   "source": []
  },
  {
   "cell_type": "code",
   "execution_count": null,
   "id": "cc69b380-e9e3-449d-b9cb-d443ca8ec9ae",
   "metadata": {},
   "outputs": [],
   "source": []
  },
  {
   "cell_type": "code",
   "execution_count": null,
   "id": "15d47ede-354c-4e18-9654-3f2b5fca00f3",
   "metadata": {},
   "outputs": [],
   "source": []
  },
  {
   "cell_type": "code",
   "execution_count": 3,
   "id": "f2a885b1-2071-4d98-8e24-1379f8524f3a",
   "metadata": {},
   "outputs": [
    {
     "name": "stdout",
     "output_type": "stream",
     "text": [
      "Playing Guitar\n",
      "Playing Piano\n"
     ]
    }
   ],
   "source": [
    "'''6. Demonstrate runtime polymorphism using a method play() in a base class Instrument. Derive classes Guitar\n",
    "and Piano that implement their own version of play().'''\n",
    "class Instrument:\n",
    "    def play(self):       #base method\n",
    "        pass\n",
    "class Guiter:             #Child class\n",
    "    def play(self):\n",
    "        print(\"Playing Guitar\")\n",
    "class Piano:              #Child class\n",
    "    def play(self):\n",
    "        print(\"Playing Piano\")\n",
    "obj_guitar=Guiter()\n",
    "obj_guitar.play()\n",
    "obj_Piano=Piano()\n",
    "obj_Piano.play()"
   ]
  },
  {
   "cell_type": "code",
   "execution_count": null,
   "id": "3b2eeef8-7f00-4d81-ad73-768a16281c3a",
   "metadata": {},
   "outputs": [],
   "source": [
    "#7.Create a class MathOperations with a class method add_numbers() to add two numbers and a static\n",
    "method subtract_numbers() to subtract two numbers.\n",
    "\n",
    "\n",
    "class MathOperations:\n",
    "    "
   ]
  },
  {
   "cell_type": "code",
   "execution_count": 17,
   "id": "9eadc58a-02f3-469c-9ca3-a8277aa4f28d",
   "metadata": {},
   "outputs": [
    {
     "name": "stdout",
     "output_type": "stream",
     "text": [
      "The count of total person 3\n"
     ]
    }
   ],
   "source": [
    "#8. Implement a class person with a class method to count the total numbers of persons created.\n",
    "class Person:\n",
    "    def __init__(self,list):\n",
    "        self.list=list\n",
    "    def count(self):\n",
    "        print(\"The count of total person\",len(self.list))\n",
    "obj=Person([\"arun\",\"narun\",\"tarun\"])    #passing a list of persons\n",
    "obj.count()"
   ]
  },
  {
   "cell_type": "code",
   "execution_count": null,
   "id": "dfd37e5b-64cf-4bac-a3dc-fc7d5f4142fd",
   "metadata": {},
   "outputs": [],
   "source": []
  },
  {
   "cell_type": "code",
   "execution_count": null,
   "id": "0d9d104e-b920-4215-a677-6d1599d971f9",
   "metadata": {},
   "outputs": [],
   "source": []
  },
  {
   "cell_type": "code",
   "execution_count": null,
   "id": "ba017423-f25c-44ce-b277-d2160761d014",
   "metadata": {},
   "outputs": [],
   "source": []
  },
  {
   "cell_type": "code",
   "execution_count": null,
   "id": "67a901c3-4547-4a74-9f2a-63e3354faa67",
   "metadata": {},
   "outputs": [],
   "source": []
  },
  {
   "cell_type": "code",
   "execution_count": null,
   "id": "f73a7d4a-8394-4acf-a9c6-69f07484418e",
   "metadata": {},
   "outputs": [],
   "source": []
  },
  {
   "cell_type": "code",
   "execution_count": null,
   "id": "60f306eb-4e3d-463b-9171-0713a35d86bd",
   "metadata": {},
   "outputs": [],
   "source": []
  },
  {
   "cell_type": "code",
   "execution_count": null,
   "id": "a2b2d33c-666e-4b46-ae1c-aa8998f6d9c7",
   "metadata": {},
   "outputs": [],
   "source": []
  },
  {
   "cell_type": "code",
   "execution_count": null,
   "id": "43fe1e76-88f6-4b45-89bb-a527b95256f6",
   "metadata": {},
   "outputs": [],
   "source": []
  },
  {
   "cell_type": "code",
   "execution_count": null,
   "id": "24e18299-7a21-4737-952e-60bfb543cd9b",
   "metadata": {},
   "outputs": [],
   "source": []
  },
  {
   "cell_type": "code",
   "execution_count": null,
   "id": "38e5d4a6-90ad-4e66-a867-ef7fbfcd7ed3",
   "metadata": {},
   "outputs": [],
   "source": []
  },
  {
   "cell_type": "code",
   "execution_count": null,
   "id": "9d888c44-5c2a-4aa9-9043-742f8f86b5d1",
   "metadata": {},
   "outputs": [],
   "source": []
  },
  {
   "cell_type": "code",
   "execution_count": null,
   "id": "a8d26e8a-3734-4429-a153-11802a166b95",
   "metadata": {},
   "outputs": [],
   "source": []
  },
  {
   "cell_type": "code",
   "execution_count": null,
   "id": "9c1faddf-2435-4546-9331-996e1e5e2912",
   "metadata": {},
   "outputs": [],
   "source": []
  },
  {
   "cell_type": "code",
   "execution_count": null,
   "id": "a77bcad3-066c-4089-be8f-757b9a6b6c67",
   "metadata": {},
   "outputs": [],
   "source": []
  },
  {
   "cell_type": "code",
   "execution_count": null,
   "id": "48360c02-68af-40ae-a0ed-031c9b31b0a0",
   "metadata": {},
   "outputs": [],
   "source": []
  },
  {
   "cell_type": "code",
   "execution_count": null,
   "id": "7ad279dc-950c-4aff-8445-dbf8fae1c063",
   "metadata": {},
   "outputs": [],
   "source": []
  },
  {
   "cell_type": "code",
   "execution_count": null,
   "id": "c2883d2a-ab3a-4096-93c7-adfd5fa76753",
   "metadata": {},
   "outputs": [],
   "source": []
  },
  {
   "cell_type": "code",
   "execution_count": null,
   "id": "ebdc44e0-7c75-4ad0-a830-a33398e0faf0",
   "metadata": {},
   "outputs": [],
   "source": []
  },
  {
   "cell_type": "code",
   "execution_count": null,
   "id": "11fab8d2-a0f1-4a98-9642-12ae15e1d164",
   "metadata": {},
   "outputs": [],
   "source": []
  },
  {
   "cell_type": "code",
   "execution_count": 8,
   "id": "32e8401c-6ccb-4c31-b40b-c8386fd3de12",
   "metadata": {},
   "outputs": [
    {
     "name": "stdout",
     "output_type": "stream",
     "text": [
      "Hello, my name is Amit and I am 45 years old.\n"
     ]
    }
   ],
   "source": [
    "'''11. Create a class Person with attribute name and age. Add a method greet() that prints \"Hello, my name is {name} \n",
    "and I am {age} years old.'''\n",
    "\n",
    "class Person:\n",
    "    def __init__(self, name,age):\n",
    "        self.name=name\n",
    "        self.age=age\n",
    "    def greet(self):\n",
    "        print(f\"Hello, my name is {self.name} and I am {self.age} years old.\")\n",
    "obj=Person('Amit',45)\n",
    "obj.greet()"
   ]
  },
  {
   "cell_type": "code",
   "execution_count": null,
   "id": "42db3d3b-3fad-4c5e-af4d-dffcae831466",
   "metadata": {},
   "outputs": [],
   "source": []
  },
  {
   "cell_type": "code",
   "execution_count": null,
   "id": "bb27e97d-8573-4b99-a678-bea6a1c570e4",
   "metadata": {},
   "outputs": [],
   "source": []
  },
  {
   "cell_type": "code",
   "execution_count": null,
   "id": "fd79afdd-9536-4493-8008-bae40cd4ff5d",
   "metadata": {},
   "outputs": [],
   "source": []
  },
  {
   "cell_type": "code",
   "execution_count": null,
   "id": "7cb3659d-246d-4c87-8f75-7b22ab067469",
   "metadata": {},
   "outputs": [],
   "source": []
  },
  {
   "cell_type": "code",
   "execution_count": null,
   "id": "3199a9fc-3370-4a7e-8fba-f0174769ab0f",
   "metadata": {},
   "outputs": [],
   "source": []
  },
  {
   "cell_type": "code",
   "execution_count": null,
   "id": "cef9f948-a8cc-42c1-aa17-7d73e54cc3f6",
   "metadata": {},
   "outputs": [],
   "source": []
  },
  {
   "cell_type": "code",
   "execution_count": null,
   "id": "8d62a0e0-2ba6-4eee-97b7-4991feb0c724",
   "metadata": {},
   "outputs": [],
   "source": []
  },
  {
   "cell_type": "code",
   "execution_count": null,
   "id": "adc4e197-a95d-4545-9925-6093a73c2665",
   "metadata": {},
   "outputs": [],
   "source": []
  }
 ],
 "metadata": {
  "kernelspec": {
   "display_name": "Python 3",
   "language": "python",
   "name": "python3"
  },
  "language_info": {
   "codemirror_mode": {
    "name": "ipython",
    "version": 3
   },
   "file_extension": ".py",
   "mimetype": "text/x-python",
   "name": "python",
   "nbconvert_exporter": "python",
   "pygments_lexer": "ipython3",
   "version": "3.12.3"
  }
 },
 "nbformat": 4,
 "nbformat_minor": 5
}
