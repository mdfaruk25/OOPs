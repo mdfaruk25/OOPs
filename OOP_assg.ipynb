{
 "cells": [
  {
   "cell_type": "markdown",
   "id": "e72142ea-1467-41da-a476-d915f083edbb",
   "metadata": {},
   "source": [
    "1. What is Object-Oriented Programming (OOP)?\n",
    "Ans: In Python Object-Oriented Programming (OOP) is a programming paradigm that uses object and classes in programming.\n",
    "It aims to implement real-world entities like inheritence, polymorphism, encapsulation etc in the programming. The main\n",
    "concept is bind data and functions that work on that together as a single unit so that no other part of code can access \n",
    "that data."
   ]
  },
  {
   "cell_type": "markdown",
   "id": "d3cc062c-e9a6-4c73-8929-791c4482d020",
   "metadata": {},
   "source": [
    "2 What is a class in OOP?\n",
    "Ans: A class is way to bind the data describing an entity and its associated functions together. Child class can inherited the\n",
    "property of Parent class.\n",
    "Ex.\n",
    "class a:\n",
    "    def __int__(self):\n",
    "        pass\n",
    "    def display(self):\n",
    "        print(\"display method\")\n",
    "n=a()\n",
    "n.display()"
   ]
  },
  {
   "cell_type": "markdown",
   "id": "9cf78192-b11a-4d8e-a3a9-ef02e09ac4ba",
   "metadata": {},
   "source": [
    "3. What is an object in OOP?\n",
    "Ans. An object is a instance of Class. The Class may be parent or child class. With help of object we can access the attributes, methods present in a class.\n",
    "Ex.\n",
    "class Parent:\n",
    "    def parent_info(self):\n",
    "        print(\"This is parent property\")\n",
    "obj=Parent()\n",
    "obj.parent_info()"
   ]
  },
  {
   "cell_type": "markdown",
   "id": "ddae7acb",
   "metadata": {},
   "source": [
    "4. What is the difference between abstraction and encapsulation?\n",
    "Ans. Abstraction method is used in Python to hide complex implementation in program. Abstraction is the method of hiding the unwanted information. Whereas encapsulation is a method to hide the data in a single entity or unit along with a method to protect information from outside\n",
    "Ex. \n",
    "import abc\n",
    "class A:\n",
    "    @abc.abstractmethod              #declaration of abstract method\n",
    "    def display(self):\n",
    "        pass\n",
    "\n",
    "class Encp:\n",
    "    def __int__(self,name,age):\n",
    "        self.name=\"arup\"\n",
    "        self.__age=25   #private data"
   ]
  },
  {
   "cell_type": "markdown",
   "id": "00fa06db-8ea6-4b45-9bdf-3ef95197709e",
   "metadata": {},
   "source": [
    "5. What are dunder methods in Python?\n",
    "Ans: Dunter methods in Python is also called as magic/special methods. These methods are used in Class to initialise attributes.__int__,__str__ etc. are dunter methods. All the method surrunded by double underscore are dunter methods.\n",
    "Ex. class A:\n",
    "        def __int__(self)\n",
    "            self.name=\"Box\"\n",
    "            self.weight=34"
   ]
  },
  {
   "cell_type": "markdown",
   "id": "a6e61ca4-f7dd-4ac7-8169-da8013754653",
   "metadata": {},
   "source": [
    "6. Explain the concept of inheritance in OOP.\n",
    "Ans. Inheritance is the concept where child class derived property of parent class. It is like real life concept where child inherit the property of parent. But, parent class not derived from child class. Child class derived attribute, methods from Parent class. One example mentioned below in this connection.\n",
    "Ex. class Parent:\n",
    "    def occupation(self):       #base method\n",
    "        print(\"Do farming\")\n",
    "class Child:             #Child class\n",
    "    def occupation(self):\n",
    "        print(\"Do office job\")\n",
    "obj_child=Child()\n",
    "obj_child.occupation"
   ]
  },
  {
   "cell_type": "markdown",
   "id": "2e3eb65a-2d6e-44b9-a554-13cd6e8bcaff",
   "metadata": {},
   "source": [
    "7. What is polymorphism in OOP?\n",
    "Ans: Polymorphism is a concept in Object Oriented Progamming where object taken various form depending on method and\n",
    "data. Like len function in Python behave differently based on argument passed. Polymorphism implemented using method overriding and overloading.\n",
    "Ex. len(\"This is a sentance\")  # This will return string lenght\n",
    "len([2,3,5,6])                 # This will return no of element in the list"
   ]
  },
  {
   "cell_type": "markdown",
   "id": "f9820c89-d530-4cb3-8daf-f028c27fd26b",
   "metadata": {},
   "source": [
    "8. How is encapsulation achieved in Python?\n",
    "Ans. Encapsulation is a method to hide the data in a single entity or unit along with a method to protect information from outside\n",
    "Ex. \n",
    "class Student:\n",
    "    def __int__(self,name,age):\n",
    "        self.name=\"arup\"\n",
    "        self.__age=25   #private data"
   ]
  },
  {
   "cell_type": "code",
   "execution_count": null,
   "id": "e8b3847e-2b3e-453b-ae78-b5526fb67ad8",
   "metadata": {},
   "outputs": [],
   "source": [
    "9.What is a constructor in Python?\n",
    "Ans. Constructor is used to initialise attributes in a class.\n",
    "Ex.\n",
    "class A:\n",
    "    def __int__(self,name):\n",
    "        self.name=name"
   ]
  },
  {
   "cell_type": "code",
   "execution_count": null,
   "id": "9b1f494b-aa53-4862-819f-0b7716a123dc",
   "metadata": {},
   "outputs": [],
   "source": [
    "10.What are class and static methods in Python?\n",
    "Ans: class method where first parameter passed as cls instead of self parameter.\n",
    "Ex.\n",
    "class A:\n",
    "@classmethod\n",
    "def details(cls):\n",
    "    return cls\n",
    "static method does modify class or instances.\n",
    "ex.\n",
    "class B:\n",
    "@staticmethod\n",
    "fun sub(a,b)\n",
    " return a+b"
   ]
  },
  {
   "cell_type": "markdown",
   "id": "2c7e8cac-6b01-4958-9f5a-cb5b72d2cc51",
   "metadata": {},
   "source": [
    "11. What is method overloading in Python?\n",
    "Ans: Method Overloading is a process where method with same name behave differently based on type of arguement passed.\n",
    "Ex.\n",
    "lass Car:\n",
    "    def fun(self):\n",
    "        print(\"Constructor\")\n",
    "    def fun(self,name=\"\"):\n",
    "        print(\"The car name\",self.name)\n",
    "    def fun(self,name=\"\",color=\"\"):\n",
    "        print(f\"The car{name} with color{color}\")"
   ]
  },
  {
   "cell_type": "markdown",
   "id": "45bb936b-f3cc-4909-95f1-480cd523364f",
   "metadata": {},
   "source": [
    "12.What is method overriding in OOP?\n",
    "Ans: In Object Oriented Programming Child class derive the properties of Parent class.In overriding method of Parent class is re-written in Child class.Child class is very powerful as Child class can change the attribute of Parent class\n",
    "Ex.\n",
    "class book:                              #Parent class\n",
    "    def book_info(self):\n",
    "        print(\"Book Class\")\n",
    "class Math(book):    \n",
    "    def book_info(self):                  #method overriding\n",
    "        print(\"Maths book\")\n",
    "obj=Math()\n",
    "obj.book_info()     \n"
   ]
  },
  {
   "cell_type": "markdown",
   "id": "23017b12-b9a2-4753-9392-5f12c52ec2d5",
   "metadata": {},
   "source": [
    "13. What is a property decorator in Python?\n",
    "Ans: Property Decorator in Python is uses class method as attribute.\n",
    "Ex.\n",
    "class Vehicle:\n",
    "    def __init__(self, engine, price):\n",
    "        self.__engine = engine\n",
    "        self.__price = price\n",
    "obj=Vehicle(\"Jet\",30000)"
   ]
  },
  {
   "cell_type": "markdown",
   "id": "dcbaaa6a-6931-41d4-883c-29f6d78c62ed",
   "metadata": {},
   "source": [
    "14. Why is polymorphism important in OOP?\n",
    "Ans: Polymorphism is important in OOP. Using Polymorphism methods behave differently depending on value passed. Polymorphism implemented using method overloading and method overriding."
   ]
  },
  {
   "cell_type": "code",
   "execution_count": null,
   "id": "521922ed-b584-49ba-b503-8afa1006fc18",
   "metadata": {},
   "outputs": [],
   "source": []
  },
  {
   "cell_type": "markdown",
   "id": "83578708-cf1e-487a-9cc8-a3d34cd8ac1b",
   "metadata": {},
   "source": [
    "15.What is an abstract class in Python?\n",
    "Ans: Abstract class in Python use to implement the abstraction concept of OOP. In abstraction complex implemention details hidden and required details exposed only. Abstract class can not be instantiated."
   ]
  },
  {
   "cell_type": "markdown",
   "id": "6176f7da-f41e-4da8-a4e0-d166c98a0baf",
   "metadata": {},
   "source": [
    "16. What are the advantages of OOP?\n",
    "Ans: There are lots of advantages of OOPs.\n",
    "1) Inheritance: Child class inherited the property of Parent class. This helps in code reusability\n",
    "2) Abrstaction: Complex implementation can be hidden\n",
    "3) Polymorphism: Methods can be various behaviour subject to data provided\n",
    "4) Encapsulation: Hidding information. Binding data and methods"
   ]
  },
  {
   "cell_type": "code",
   "execution_count": null,
   "id": "a5ab03a9-7466-46f0-bebd-931a893c868a",
   "metadata": {},
   "outputs": [],
   "source": [
    "17.What is the difference between a class variable and an instance variable?\n",
    "Ans: class variable is declared within class and instance variable declared within a method.\n",
    "Ex.\n",
    "class Student:\n",
    "    total_students = 0 #class variable\n",
    "    def __init__(self, name):\n",
    "        self.name = name #instance variable"
   ]
  },
  {
   "cell_type": "code",
   "execution_count": null,
   "id": "d2e5d10f-efe9-4f8b-86d7-e79aaf0114da",
   "metadata": {},
   "outputs": [],
   "source": [
    "18.What is multiple inheritance in Python?\n",
    "Ans: Multiple inheritance is a concept where one child can inhited property of multiple parent.\n",
    "Ex.\n",
    "    class Parent1:     # Multiple inheritance\n",
    "    def parent_info(self):\n",
    "        print(\"This is parent1 property\")\n",
    "class Parent2:\n",
    "    def parent_info(self):\n",
    "        print(\"This is parent2 property\")\n",
    "class Child(Parent1,Parent2):\n",
    "    pass\n",
    "obj_ch=Child()\n",
    "obj_ch.parent_info()"
   ]
  },
  {
   "cell_type": "code",
   "execution_count": null,
   "id": "7ae9741c-40f0-4555-8126-78a34b431b63",
   "metadata": {},
   "outputs": [],
   "source": [
    "19. Explain the purpose of \"__str__\"and \"__repr__\" methods in Python.\n",
    "Ans: __str__ will return string representation of object.\n",
    "Ex. class A:\n",
    "    def __str__(self):\n",
    "        return \"__str__\"\n",
    "\n",
    "__repr__ will return unambiguos represent of object.\n"
   ]
  },
  {
   "cell_type": "code",
   "execution_count": null,
   "id": "74a10c66-5d18-4a41-b121-2d5ea1032de0",
   "metadata": {},
   "outputs": [],
   "source": [
    "20"
   ]
  },
  {
   "cell_type": "code",
   "execution_count": null,
   "id": "0d45b30b-935b-44c7-a870-778762088f9a",
   "metadata": {},
   "outputs": [],
   "source": [
    "21"
   ]
  },
  {
   "cell_type": "code",
   "execution_count": null,
   "id": "60a965f6-6256-44f9-8615-9f07ff16e8fb",
   "metadata": {},
   "outputs": [],
   "source": [
    "22"
   ]
  },
  {
   "cell_type": "markdown",
   "id": "880d0509-6643-4aea-b89b-20cf8a46f83f",
   "metadata": {},
   "source": [
    "23. How does polymorphism work in Python with inheritance?\n",
    "Ans: Below is a example showing where one child inherited properties from two parent class and also method has been method over written.\n",
    "class Parent1:     # Multiple inheritance\n",
    "    def parent_info(self):\n",
    "        print(\"This is parent1 property\")\n",
    "class Parent2:\n",
    "    def parent_info(self):\n",
    "        print(\"This is parent2 property\")\n",
    "class Child(Parent1,Parent2):\n",
    "    def parent_info(self):\n",
    "        print(\"Inherited two parent\")\n",
    "obj_ch=Child()\n",
    "obj_ch.parent_info()"
   ]
  },
  {
   "cell_type": "code",
   "execution_count": null,
   "id": "6985734a-eecf-49b0-abaf-dd93a38c5452",
   "metadata": {},
   "outputs": [],
   "source": [
    "24"
   ]
  },
  {
   "cell_type": "code",
   "execution_count": null,
   "id": "62007ed8-997c-4211-9d5e-3369dc4bd730",
   "metadata": {},
   "outputs": [],
   "source": [
    "25"
   ]
  },
  {
   "cell_type": "markdown",
   "id": "8f53e17e-3de9-4b9a-ab55-150860c9303e",
   "metadata": {},
   "source": [
    "Practical"
   ]
  },
  {
   "cell_type": "code",
   "execution_count": 8,
   "id": "f6ad059b-cf18-42a8-b6a0-339a1e3c6c3b",
   "metadata": {},
   "outputs": [
    {
     "name": "stdout",
     "output_type": "stream",
     "text": [
      "Bark!\n"
     ]
    }
   ],
   "source": [
    "'''1. Create a parent class Animal with a method speak() that prints a generic message. Create a child class Dog\n",
    "that overrides the speak() method to print \"Bark!\".'''\n",
    "\n",
    "class Animal:\n",
    "    def speak(self):\n",
    "        print(\"Animal sound\")\n",
    "class Dog(Animal):\n",
    "    def speak(self):\n",
    "        print(\"Bark!\")\n",
    "p=Dog()\n",
    "p.speak()"
   ]
  },
  {
   "cell_type": "code",
   "execution_count": 3,
   "id": "16342068-8572-41c5-8478-d2ef1067bfce",
   "metadata": {},
   "outputs": [
    {
     "data": {
      "text/plain": [
       "'area of circle is pi r **2'"
      ]
     },
     "execution_count": 3,
     "metadata": {},
     "output_type": "execute_result"
    }
   ],
   "source": [
    "'''2. Write a program to create an abstract class Shape with a method area(). Derive classes Circle and Rectangle\n",
    "from it and implement the area() method in both.'''\n",
    "import abc\n",
    "class Shape:\n",
    "    \n",
    "    @abc.abstractmethod\n",
    "    def area(self):\n",
    "        pass\n",
    "class Rectangle(Shape):\n",
    "    def area(self):\n",
    "        return \"Area of rectange is len*breadth\"\n",
    "class Circle(Shape):\n",
    "    def area(self):\n",
    "        return \"area of circle is pi r **2\"\n",
    "\n",
    "cir=Circle()\n",
    "cir.area()"
   ]
  },
  {
   "cell_type": "code",
   "execution_count": 4,
   "id": "f6e35c3b-bd1a-4d9c-aad3-72b01e2bb447",
   "metadata": {},
   "outputs": [
    {
     "data": {
      "text/plain": [
       "'Area of rectange is len*breadth'"
      ]
     },
     "execution_count": 4,
     "metadata": {},
     "output_type": "execute_result"
    }
   ],
   "source": [
    "rect=Rectangle()\n",
    "rect.area()"
   ]
  },
  {
   "cell_type": "code",
   "execution_count": 30,
   "id": "0910e574-96c9-4407-b74c-ab5ff5d08cd0",
   "metadata": {},
   "outputs": [],
   "source": [
    "'''3. Implement a multi-level inheritance scenario where a class Vehicle has an attribute type. Derive a class Car\n",
    "and further derive a class ElectricCar that adds a battery attribute.'''\n",
    "\n",
    "class Vehicle:\n",
    "    def __int__(self,color):\n",
    "        self.color=color\n",
    "    def info(self):\n",
    "        print(f\"Vehicle class with {self.color}\")\n",
    "class Car(Vehicle):\n",
    "    def info(self):\n",
    "        print(\"Car class\")\n",
    "class ElectricCar(Car):\n",
    "    def __init__(self, battery):                       #battery attribute added\n",
    "        self.battery=battery\n",
    "    def info(self):\n",
    "        print(f\"Car class with {self.battery}\")"
   ]
  },
  {
   "cell_type": "code",
   "execution_count": 31,
   "id": "e193eac0-437f-40e5-84b2-ec3aa4cbf6f8",
   "metadata": {},
   "outputs": [
    {
     "name": "stdout",
     "output_type": "stream",
     "text": [
      "Car class with Ultra\n"
     ]
    }
   ],
   "source": [
    "obj=ElectricCar(\"Ultra\")\n",
    "obj.info()"
   ]
  },
  {
   "cell_type": "code",
   "execution_count": 32,
   "id": "5e48913d-17ef-4c07-b60b-b8966fd6a930",
   "metadata": {},
   "outputs": [],
   "source": [
    "'''4. Implement a multi-level inheritance scenario where a class Vehicle has an attribute type. Derive a class Car\n",
    "and further derive a class ElectricCar that adds a battery attribute.'''\n",
    "\n",
    "class Vehicle:\n",
    "    def __int__(self,color):\n",
    "        self.color=color\n",
    "    def info(self):\n",
    "        print(f\"Vehicle class with {self.color}\")\n",
    "class Car(Vehicle):\n",
    "    def info(self):\n",
    "        print(\"Car class\")\n",
    "class ElectricCar(Car):\n",
    "    def __init__(self, battery):                       #battery attribute added\n",
    "        self.battery=battery\n",
    "    def info(self):\n",
    "        print(f\"Car class with {self.battery}\")"
   ]
  },
  {
   "cell_type": "code",
   "execution_count": 33,
   "id": "55c61ab2-7c28-46f6-9e25-f0575cf6f520",
   "metadata": {},
   "outputs": [
    {
     "name": "stdout",
     "output_type": "stream",
     "text": [
      "Car class with New Battery\n"
     ]
    }
   ],
   "source": [
    "obj=ElectricCar(\"New Battery\")\n",
    "obj.info()"
   ]
  },
  {
   "cell_type": "code",
   "execution_count": 34,
   "id": "01219aba-4fef-4d3f-9f4b-023c1e844999",
   "metadata": {},
   "outputs": [],
   "source": [
    "'''5. Write a program to demonstrate encapsulation by creating a class BankAccount with private attributes\n",
    "balance and methods to deposit, withdraw, and check balance.'''\n",
    "\n",
    "class BankAccount: \n",
    "    \n",
    "    def __init__(self, balance):\n",
    "        self.__balance = balance\n",
    "        \n",
    "    def deposit(self, amount): #amount is new deposition\n",
    "        self.__balance = self.__balance + amount\n",
    "    \n",
    "    def withdraw(self, amount):\n",
    "        if self.__balance >= amount:\n",
    "            self.__balance = self.__balance - amount\n",
    "            return True\n",
    "        else:\n",
    "            return False\n",
    "        \n",
    "    def check_balance(self):\n",
    "        return self.__balance"
   ]
  },
  {
   "cell_type": "code",
   "execution_count": 35,
   "id": "6bf1c4a0-a636-49ee-af75-5e5004eee187",
   "metadata": {},
   "outputs": [],
   "source": [
    "obj=BankAccount(10000)"
   ]
  },
  {
   "cell_type": "code",
   "execution_count": 36,
   "id": "03b99a70-7f10-4902-a4d7-f7fd5e9daf79",
   "metadata": {},
   "outputs": [
    {
     "data": {
      "text/plain": [
       "10000"
      ]
     },
     "execution_count": 36,
     "metadata": {},
     "output_type": "execute_result"
    }
   ],
   "source": [
    "obj.check_balance()"
   ]
  },
  {
   "cell_type": "code",
   "execution_count": 3,
   "id": "f2a885b1-2071-4d98-8e24-1379f8524f3a",
   "metadata": {},
   "outputs": [
    {
     "name": "stdout",
     "output_type": "stream",
     "text": [
      "Playing Guitar\n",
      "Playing Piano\n"
     ]
    }
   ],
   "source": [
    "'''6. Demonstrate runtime polymorphism using a method play() in a base class Instrument. Derive classes Guitar\n",
    "and Piano that implement their own version of play().'''\n",
    "class Instrument:\n",
    "    def play(self):       #base method\n",
    "        pass\n",
    "class Guiter:             #Child class\n",
    "    def play(self):\n",
    "        print(\"Playing Guitar\")\n",
    "class Piano:              #Child class\n",
    "    def play(self):\n",
    "        print(\"Playing Piano\")\n",
    "obj_guitar=Guiter()\n",
    "obj_guitar.play()\n",
    "obj_Piano=Piano()\n",
    "obj_Piano.play()"
   ]
  },
  {
   "cell_type": "code",
   "execution_count": 23,
   "id": "3b2eeef8-7f00-4d81-ad73-768a16281c3a",
   "metadata": {},
   "outputs": [],
   "source": [
    "'''7.Create a class MathOperations with a class method add_numbers() to add two numbers and a static\n",
    "method subtract_numbers() to subtract two numbers.'''\n",
    "\n",
    "\n",
    "class MathOperations:\n",
    "    @staticmethod\n",
    "    def add(x, y):\n",
    "        return x+y   \n",
    "    @staticmethod\n",
    "    def subtract(x,y):\n",
    "        return x-y    "
   ]
  },
  {
   "cell_type": "code",
   "execution_count": 26,
   "id": "e498311c-340c-4478-8b9a-c2d353c19b6f",
   "metadata": {},
   "outputs": [
    {
     "data": {
      "text/plain": [
       "5"
      ]
     },
     "execution_count": 26,
     "metadata": {},
     "output_type": "execute_result"
    }
   ],
   "source": [
    "obj=MathOperations()\n",
    "obj.add(2,3)"
   ]
  },
  {
   "cell_type": "code",
   "execution_count": 17,
   "id": "9eadc58a-02f3-469c-9ca3-a8277aa4f28d",
   "metadata": {},
   "outputs": [
    {
     "name": "stdout",
     "output_type": "stream",
     "text": [
      "The count of total person 3\n"
     ]
    }
   ],
   "source": [
    "#8. Implement a class person with a class method to count the total numbers of persons created.\n",
    "class Person:\n",
    "    def __init__(self,list):\n",
    "        self.list=list\n",
    "    def count(self):\n",
    "        print(\"The count of total person\",len(self.list))\n",
    "obj=Person([\"arun\",\"narun\",\"tarun\"])    #passing a list of persons\n",
    "obj.count()"
   ]
  },
  {
   "cell_type": "code",
   "execution_count": 8,
   "id": "32e8401c-6ccb-4c31-b40b-c8386fd3de12",
   "metadata": {},
   "outputs": [
    {
     "name": "stdout",
     "output_type": "stream",
     "text": [
      "Hello, my name is Amit and I am 45 years old.\n"
     ]
    }
   ],
   "source": [
    "'''11. Create a class Person with attribute name and age. Add a method greet() that prints \"Hello, my name is {name} \n",
    "and I am {age} years old.'''\n",
    "\n",
    "class Person:\n",
    "    def __init__(self, name,age):\n",
    "        self.name=name\n",
    "        self.age=age\n",
    "    def greet(self):\n",
    "        print(f\"Hello, my name is {self.name} and I am {self.age} years old.\")\n",
    "obj=Person('Amit',45)\n",
    "obj.greet()"
   ]
  },
  {
   "cell_type": "code",
   "execution_count": null,
   "id": "42db3d3b-3fad-4c5e-af4d-dffcae831466",
   "metadata": {},
   "outputs": [],
   "source": [
    "''' 12. Implement a class Student with attributes name and grades. Create a method average_grade() to compute\n",
    "the average of the grades.\n",
    "'''\n",
    "\n",
    "class Student:\n",
    "    def __int__(self,name,grades):\n",
    "        self.name=name\n",
    "        self.grades=grades\n",
    "    def average_grade():\n",
    "        r\n",
    "        "
   ]
  },
  {
   "cell_type": "code",
   "execution_count": 14,
   "id": "bb27e97d-8573-4b99-a678-bea6a1c570e4",
   "metadata": {},
   "outputs": [],
   "source": [
    "'''13. Create a class Rectangle with methods set_dimensions() to set the dimensions and area() to calculate the\n",
    "area.'''\n",
    "\n",
    "class Rectangle:\n",
    "    #def __int___(self,length):\n",
    "       # self.length=length\n",
    "       # self.breadth=breadth\n",
    "    def set_dimensions(self,length,breadth):\n",
    "        self.length=length\n",
    "        self.breadth=breadth\n",
    "    def area(self):\n",
    "        return \"The area is:\",self.length*self.breadth   "
   ]
  },
  {
   "cell_type": "code",
   "execution_count": 15,
   "id": "2e1f10a3-6abb-463b-bbb9-42647a1ff5a1",
   "metadata": {},
   "outputs": [
    {
     "data": {
      "text/plain": [
       "('The area is:', 12)"
      ]
     },
     "execution_count": 15,
     "metadata": {},
     "output_type": "execute_result"
    }
   ],
   "source": [
    "obj_rect=Rectangle()\n",
    "obj_rect.set_dimensions(3,4)\n",
    "obj_rect.area()"
   ]
  },
  {
   "cell_type": "code",
   "execution_count": null,
   "id": "8e33aa8b-748f-41de-aec9-ecbf1112c2ba",
   "metadata": {},
   "outputs": [],
   "source": []
  },
  {
   "cell_type": "code",
   "execution_count": null,
   "id": "760bf834-26af-4c70-91cf-824a701d2ec5",
   "metadata": {},
   "outputs": [],
   "source": []
  },
  {
   "cell_type": "code",
   "execution_count": null,
   "id": "4bd84ff6-2ba1-4bba-ad0f-e10b4e6505a8",
   "metadata": {},
   "outputs": [],
   "source": []
  },
  {
   "cell_type": "code",
   "execution_count": null,
   "id": "7a12c663-b026-4e49-9109-71c680dfd816",
   "metadata": {},
   "outputs": [],
   "source": []
  },
  {
   "cell_type": "code",
   "execution_count": null,
   "id": "18039439-45bc-4414-8a1b-b7cb96430d85",
   "metadata": {},
   "outputs": [],
   "source": []
  },
  {
   "cell_type": "code",
   "execution_count": null,
   "id": "ccb6b147-c683-4bfa-9fbd-dff9cc4dfe83",
   "metadata": {},
   "outputs": [],
   "source": []
  },
  {
   "cell_type": "code",
   "execution_count": null,
   "id": "d3c8dfe0-4b3d-4123-a288-d5f1afa1a86d",
   "metadata": {},
   "outputs": [],
   "source": []
  },
  {
   "cell_type": "code",
   "execution_count": null,
   "id": "956c70a0-a1eb-4ee8-b956-65359ce0565b",
   "metadata": {},
   "outputs": [],
   "source": []
  },
  {
   "cell_type": "code",
   "execution_count": null,
   "id": "e6d2117e-93d2-491f-b612-879b7458dd1e",
   "metadata": {},
   "outputs": [],
   "source": []
  },
  {
   "cell_type": "code",
   "execution_count": 41,
   "id": "fd79afdd-9536-4493-8008-bae40cd4ff5d",
   "metadata": {},
   "outputs": [],
   "source": [
    "\"\"\"16. Create a class Animal with an abstract method sound(). Create two derived classes Cow and Sheep that\n",
    "implement the sound() method.\n",
    " \"\"\"\n",
    "import abc\n",
    "class Animal:\n",
    "    @abc.abstractmethod\n",
    "    def sound(self):\n",
    "        print(\"Animal Sound\")\n",
    "class Cow(Animal):\n",
    "    def sound(self):\n",
    "        print(\"Cow lows\")\n",
    "class Sheep(Animal):\n",
    "    def sound(self):\n",
    "        print(\"Sheep bleats\")  "
   ]
  },
  {
   "cell_type": "code",
   "execution_count": 43,
   "id": "7cb3659d-246d-4c87-8f75-7b22ab067469",
   "metadata": {},
   "outputs": [
    {
     "name": "stdout",
     "output_type": "stream",
     "text": [
      "Sheep bleats\n"
     ]
    }
   ],
   "source": [
    "obj1=Sheep()\n",
    "obj1.sound()"
   ]
  },
  {
   "cell_type": "code",
   "execution_count": 46,
   "id": "ba91f6af-9833-4b96-bb99-7822649a2d18",
   "metadata": {},
   "outputs": [],
   "source": [
    "''' 17. Create a class Book with attributes title, author, and year_published. Add a method get_book_info() that\n",
    "returns a formatted string with the book's details.\n",
    "'''\n",
    "\n",
    "class Book:\n",
    "    def __init__(self,title,author,year_published):\n",
    "        \n",
    "        self.title = title\n",
    "        self.author = author\n",
    "        self.year_published = year_published\n",
    "        \n",
    "    def get_book_info(self):\n",
    "        print(f\"The book name {self.title} is written by {self.author} and published in the year {self.year_published}\")"
   ]
  },
  {
   "cell_type": "code",
   "execution_count": null,
   "id": "178b673c-7c1c-46f4-9d3d-3c44bc5bfc34",
   "metadata": {},
   "outputs": [],
   "source": []
  },
  {
   "cell_type": "code",
   "execution_count": 48,
   "id": "39e65f9c-6ff3-4653-921b-860762a993f1",
   "metadata": {},
   "outputs": [
    {
     "name": "stdout",
     "output_type": "stream",
     "text": [
      "The book name Public Speaking is written by Rajesh Prasad and published in the year 2009\n"
     ]
    }
   ],
   "source": [
    "obj_book=Book(\"Public Speaking\",\"Rajesh Prasad\",2009)\n",
    "obj_book.get_book_info()"
   ]
  },
  {
   "cell_type": "code",
   "execution_count": 19,
   "id": "0ddfb2f0-aba9-4ee0-9197-0972435518f4",
   "metadata": {},
   "outputs": [],
   "source": [
    "\"\"\" 18. Create a class House with attributes address and price. Create a derived class Mansion that adds an\n",
    "attribute number_of_rooms.\"\"\"\n",
    "\n",
    "class House:\n",
    "    def __int__(self,address,price):\n",
    "        self.address=address\n",
    "        self.price=price\n",
    "    def info(self):\n",
    "        print(f\"House is at {self.address} with price{self.price}\")\n",
    "class Mansion(House):\n",
    "    def __init_(self,number_of_rooms):\n",
    "        self.number_of_rooms=number_of_rooms\n",
    "    def room_info(self):\n",
    "        print(f\"The mansion has {self.number_of_rooms} no of rooms\")\n"
   ]
  },
  {
   "cell_type": "code",
   "execution_count": 21,
   "id": "07969a98-89ad-4676-a9ca-b0e87ad2c9ba",
   "metadata": {},
   "outputs": [
    {
     "ename": "TypeError",
     "evalue": "Mansion.room_info() takes 1 positional argument but 2 were given",
     "output_type": "error",
     "traceback": [
      "\u001b[1;31m---------------------------------------------------------------------------\u001b[0m",
      "\u001b[1;31mTypeError\u001b[0m                                 Traceback (most recent call last)",
      "Cell \u001b[1;32mIn[21], line 2\u001b[0m\n\u001b[0;32m      1\u001b[0m obj1\u001b[38;5;241m=\u001b[39mMansion()\n\u001b[1;32m----> 2\u001b[0m obj1\u001b[38;5;241m.\u001b[39mroom_info(\u001b[38;5;241m8\u001b[39m)\n",
      "\u001b[1;31mTypeError\u001b[0m: Mansion.room_info() takes 1 positional argument but 2 were given"
     ]
    }
   ],
   "source": [
    "obj1=Mansion()\n",
    "obj1.room_info(8)"
   ]
  },
  {
   "cell_type": "code",
   "execution_count": null,
   "id": "5f387026-352f-487c-8f12-3a027fdac911",
   "metadata": {},
   "outputs": [],
   "source": []
  },
  {
   "cell_type": "code",
   "execution_count": null,
   "id": "504b8d6d-f572-4ca0-827e-6a95e2d3014d",
   "metadata": {},
   "outputs": [],
   "source": []
  },
  {
   "cell_type": "code",
   "execution_count": null,
   "id": "07071151-5441-43f4-95b2-68f2970e27de",
   "metadata": {},
   "outputs": [],
   "source": []
  },
  {
   "cell_type": "code",
   "execution_count": null,
   "id": "96541f6c-3691-4d31-9fdb-667576f73f89",
   "metadata": {},
   "outputs": [],
   "source": []
  },
  {
   "cell_type": "code",
   "execution_count": null,
   "id": "6a31cc17-ccfb-4559-a656-26e73aa22d42",
   "metadata": {},
   "outputs": [],
   "source": []
  },
  {
   "cell_type": "code",
   "execution_count": null,
   "id": "fefaa3ce-fbba-43e6-a9f8-e37b39caf728",
   "metadata": {},
   "outputs": [],
   "source": []
  },
  {
   "cell_type": "code",
   "execution_count": null,
   "id": "b7f43521-95fb-4576-b696-4b0e5bc54f86",
   "metadata": {},
   "outputs": [],
   "source": []
  },
  {
   "cell_type": "code",
   "execution_count": null,
   "id": "11caea8a-3f98-47f6-a1fd-5abe06cbf3d5",
   "metadata": {},
   "outputs": [],
   "source": []
  },
  {
   "cell_type": "code",
   "execution_count": null,
   "id": "1b9f9890-abe8-43eb-9a9a-2d8541a24944",
   "metadata": {},
   "outputs": [],
   "source": []
  },
  {
   "cell_type": "code",
   "execution_count": null,
   "id": "658b4bf6-5f3d-4353-bea3-e5a0d48db6bc",
   "metadata": {},
   "outputs": [],
   "source": []
  },
  {
   "cell_type": "code",
   "execution_count": null,
   "id": "5a8f6cd1-e1f6-4ded-b8f1-1eb178a709e4",
   "metadata": {},
   "outputs": [],
   "source": []
  },
  {
   "cell_type": "code",
   "execution_count": null,
   "id": "43c69e8d-4927-473c-868e-fc5ac540356e",
   "metadata": {},
   "outputs": [],
   "source": []
  },
  {
   "cell_type": "code",
   "execution_count": null,
   "id": "179ef413-6ce2-405f-b1fb-c7db283e653a",
   "metadata": {},
   "outputs": [],
   "source": []
  },
  {
   "cell_type": "code",
   "execution_count": null,
   "id": "09b2f7e0-c2a1-4a89-abc5-876cbda29d78",
   "metadata": {},
   "outputs": [],
   "source": []
  },
  {
   "cell_type": "code",
   "execution_count": null,
   "id": "9811b432-9cfb-451b-9115-205775846e62",
   "metadata": {},
   "outputs": [],
   "source": []
  },
  {
   "cell_type": "code",
   "execution_count": null,
   "id": "07217377-8aa6-4446-9c82-a31bbaa4a4d4",
   "metadata": {},
   "outputs": [],
   "source": []
  },
  {
   "cell_type": "code",
   "execution_count": null,
   "id": "16abf66f-0b57-4035-83dd-051f824d8d36",
   "metadata": {},
   "outputs": [],
   "source": []
  },
  {
   "cell_type": "code",
   "execution_count": null,
   "id": "9ff68247-1b3c-4920-b902-12fb7a073796",
   "metadata": {},
   "outputs": [],
   "source": []
  },
  {
   "cell_type": "code",
   "execution_count": null,
   "id": "4652f093-5145-4bf7-ae15-029462f695b5",
   "metadata": {},
   "outputs": [],
   "source": []
  },
  {
   "cell_type": "code",
   "execution_count": null,
   "id": "3199a9fc-3370-4a7e-8fba-f0174769ab0f",
   "metadata": {},
   "outputs": [],
   "source": []
  },
  {
   "cell_type": "code",
   "execution_count": null,
   "id": "cef9f948-a8cc-42c1-aa17-7d73e54cc3f6",
   "metadata": {},
   "outputs": [],
   "source": []
  },
  {
   "cell_type": "code",
   "execution_count": null,
   "id": "8d62a0e0-2ba6-4eee-97b7-4991feb0c724",
   "metadata": {},
   "outputs": [],
   "source": []
  },
  {
   "cell_type": "code",
   "execution_count": null,
   "id": "adc4e197-a95d-4545-9925-6093a73c2665",
   "metadata": {},
   "outputs": [],
   "source": []
  }
 ],
 "metadata": {
  "kernelspec": {
   "display_name": "Python 3 (ipykernel)",
   "language": "python",
   "name": "python3"
  },
  "language_info": {
   "codemirror_mode": {
    "name": "ipython",
    "version": 3
   },
   "file_extension": ".py",
   "mimetype": "text/x-python",
   "name": "python",
   "nbconvert_exporter": "python",
   "pygments_lexer": "ipython3",
   "version": "3.11.7"
  }
 },
 "nbformat": 4,
 "nbformat_minor": 5
}
