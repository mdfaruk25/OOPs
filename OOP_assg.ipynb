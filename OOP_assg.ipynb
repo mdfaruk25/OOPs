{
 "cells": [
  {
   "cell_type": "markdown",
   "id": "e72142ea-1467-41da-a476-d915f083edbb",
   "metadata": {},
   "source": [
    "1. What is Object-Oriented Programming (OOP)?\n",
    "Ans: In Python Object-Oriented Programming (OOP) is a programming paradigm that uses object and classes in programming.\n",
    "It aims to implement real-world entities like inheritence, polymorphism, encapsulation etc in the programming. The main\n",
    "concept is bind data and functions that work on that together as a single unit so that no other part of code can access \n",
    "that data."
   ]
  },
  {
   "cell_type": "markdown",
   "id": "d3cc062c-e9a6-4c73-8929-791c4482d020",
   "metadata": {},
   "source": [
    "2 What is a class in OOP?\n",
    "Ans: A class is way to bind the data describing an entity and its associated functions together. Child class can inherited the\n",
    "property of Parent class.\n",
    "Ex.\n",
    "class a:\n",
    "    def __int__(self):\n",
    "        pass\n",
    "    def display(self):\n",
    "        print(\"display method\")\n",
    "n=a()\n",
    "n.display()"
   ]
  },
  {
   "cell_type": "markdown",
   "id": "9cf78192-b11a-4d8e-a3a9-ef02e09ac4ba",
   "metadata": {},
   "source": [
    "3. What is an object in OOP?\n",
    "Ans. An object is a instance of Class. The Class may be parent or child class. With help of object we can access the attributes, methods present in a class.\n",
    "Ex.\n",
    "class Parent:\n",
    "    def parent_info(self):\n",
    "        print(\"This is parent property\")\n",
    "obj=Parent()\n",
    "obj.parent_info()"
   ]
  },
  {
   "cell_type": "markdown",
   "id": "ddae7acb",
   "metadata": {},
   "source": [
    "4. What is the difference between abstraction and encapsulation?\n",
    "Ans. Abstraction method is used in Python to hide complex implementation in program. Abstraction is the method of hiding the unwanted information. Whereas encapsulation is a method to hide the data in a single entity or unit along with a method to protect information from outside\n",
    "Ex. \n",
    "import abc\n",
    "class A:\n",
    "    @abc.abstractmethod              #declaration of abstract method\n",
    "    def display(self):\n",
    "        pass\n",
    "\n",
    "class Encp:\n",
    "    def __int__(self,name,age):\n",
    "        self.name=\"arup\"\n",
    "        self.__age=25   #private data"
   ]
  },
  {
   "cell_type": "markdown",
   "id": "00fa06db-8ea6-4b45-9bdf-3ef95197709e",
   "metadata": {},
   "source": [
    "5. What are dunder methods in Python?\n",
    "Ans: Dunter methods in Python is also called as magic/special methods. These methods are used in Class to initialise attributes.__int__,__str__ etc. are dunter methods. All the method surrunded by double underscore are dunter methods.\n",
    "Ex. class A:\n",
    "        def __int__(self)\n",
    "            self.name=\"Box\"\n",
    "            self.weight=34"
   ]
  },
  {
   "cell_type": "markdown",
   "id": "a6e61ca4-f7dd-4ac7-8169-da8013754653",
   "metadata": {},
   "source": [
    "6. Explain the concept of inheritance in OOP.\n",
    "Ans. Inheritance is the concept where child class derived property of parent class. It is like real life concept where child inherit the property of parent. But, parent class not derived from child class. Child class derived attribute, methods from Parent class. One example mentioned below in this connection.\n",
    "Ex. class Parent:\n",
    "    def occupation(self):       #base method\n",
    "        print(\"Do farming\")\n",
    "class Child:             #Child class\n",
    "    def occupation(self):\n",
    "        print(\"Do office job\")\n",
    "obj_child=Child()\n",
    "obj_child.occupation"
   ]
  },
  {
   "cell_type": "markdown",
   "id": "2e3eb65a-2d6e-44b9-a554-13cd6e8bcaff",
   "metadata": {},
   "source": [
    "7. What is polymorphism in OOP?\n",
    "Ans: Polymorphism is a concept in Object Oriented Progamming where object taken various form depending on method and\n",
    "data. Like len function in Python behave differently based on argument passed.\n",
    "Ex. len(\"This is a sentance\")  # This will return string lenght\n",
    "len([2,3,5,6])                 # This will return no of element in the list"
   ]
  },
  {
   "cell_type": "markdown",
   "id": "f9820c89-d530-4cb3-8daf-f028c27fd26b",
   "metadata": {},
   "source": [
    "8. How is encapsulation achieved in Python?\n",
    "Ans. Encapsulation is a method to hide the data in a single entity or unit along with a method to protect information from outside\n",
    "Ex. \n",
    "class Student:\n",
    "    def __int__(self,name,age):\n",
    "        self.name=\"arup\"\n",
    "        self.__age=25   #private data"
   ]
  },
  {
   "cell_type": "code",
   "execution_count": null,
   "id": "e8b3847e-2b3e-453b-ae78-b5526fb67ad8",
   "metadata": {},
   "outputs": [],
   "source": [
    "9.What is a constructor in Python?\n",
    "Ans. Constructor is used to initialise attributes in a class"
   ]
  },
  {
   "cell_type": "code",
   "execution_count": null,
   "id": "9b1f494b-aa53-4862-819f-0b7716a123dc",
   "metadata": {},
   "outputs": [],
   "source": [
    "10."
   ]
  },
  {
   "cell_type": "markdown",
   "id": "2c7e8cac-6b01-4958-9f5a-cb5b72d2cc51",
   "metadata": {},
   "source": [
    "11. What is method overloading in Python?\n",
    "Ans: Method Overloading is a process where method with same name behave differently based on type of arguement passed.\n",
    "Ex.\n",
    "lass Car:\n",
    "    def fun(self):\n",
    "        print(\"Constructor\")\n",
    "    def fun(self,name=\"\"):\n",
    "        print(\"The car name\",self.name)\n",
    "    def fun(self,name=\"\",color=\"\"):\n",
    "        print(f\"The car{name} with color{color}\")"
   ]
  },
  {
   "cell_type": "markdown",
   "id": "45bb936b-f3cc-4909-95f1-480cd523364f",
   "metadata": {},
   "source": [
    "12.What is method overriding in OOP?\n",
    "Ans: In Object Oriented Programming Child class derive the properties of Parent class.In overriding method of Parent class is re-written in Child class.Child class is very powerful as Child class can change the attribute of Parent class\n",
    "Ex.\n",
    "class book:                              #Parent class\n",
    "    def book_info(self):\n",
    "        print(\"Book Class\")\n",
    "class Math(book):    \n",
    "    def book_info(self):                  #method overriding\n",
    "        print(\"Maths book\")\n",
    "obj=Math()\n",
    "obj.book_info()     \n"
   ]
  },
  {
   "cell_type": "code",
   "execution_count": null,
   "id": "64d4cc75-2889-4efa-a263-974852d5dd03",
   "metadata": {},
   "outputs": [],
   "source": [
    "13."
   ]
  },
  {
   "cell_type": "code",
   "execution_count": null,
   "id": "06426c2b-b448-4b85-8eec-78481585de9d",
   "metadata": {},
   "outputs": [],
   "source": [
    "14."
   ]
  },
  {
   "cell_type": "markdown",
   "id": "83578708-cf1e-487a-9cc8-a3d34cd8ac1b",
   "metadata": {},
   "source": [
    "15.What is an abstract class in Python?\n",
    "Ans: Abstract class in Python use to implement the abstraction concept of OOP. In abstraction complex implemention details hidden and required details exposed only. Abstract class can not be instantiated."
   ]
  },
  {
   "cell_type": "markdown",
   "id": "6176f7da-f41e-4da8-a4e0-d166c98a0baf",
   "metadata": {},
   "source": [
    "16. What are the advantages of OOP?\n",
    "Ans: There are lots of advantages of OOPs.\n",
    "1) Inheritance: Child class inherited the property of Parent class. This helps in code reusability\n",
    "2) Abrstaction: Complex implementation can be hidden\n",
    "3) Polymorphism: Methods can be various behaviour subject to data provided\n",
    "4) Encapsulation: Hidding information. Binding data and methods"
   ]
  },
  {
   "cell_type": "code",
   "execution_count": null,
   "id": "a5ab03a9-7466-46f0-bebd-931a893c868a",
   "metadata": {},
   "outputs": [],
   "source": [
    "17."
   ]
  },
  {
   "cell_type": "code",
   "execution_count": null,
   "id": "d2e5d10f-efe9-4f8b-86d7-e79aaf0114da",
   "metadata": {},
   "outputs": [],
   "source": [
    "18.What is multiple inheritance in Python?\n",
    "Ans: Multiple inheritance is a concept where one child can inhited property of multiple parent.\n",
    "Ex.\n",
    "    class Parent1:     # Multiple inheritance\n",
    "    def parent_info(self):\n",
    "        print(\"This is parent1 property\")\n",
    "class Parent2:\n",
    "    def parent_info(self):\n",
    "        print(\"This is parent2 property\")\n",
    "class Child(Parent1,Parent2):\n",
    "    pass\n",
    "obj_ch=Child()\n",
    "obj_ch.parent_info()"
   ]
  },
  {
   "cell_type": "code",
   "execution_count": null,
   "id": "7ae9741c-40f0-4555-8126-78a34b431b63",
   "metadata": {},
   "outputs": [],
   "source": [
    "19."
   ]
  },
  {
   "cell_type": "code",
   "execution_count": null,
   "id": "74a10c66-5d18-4a41-b121-2d5ea1032de0",
   "metadata": {},
   "outputs": [],
   "source": [
    "20"
   ]
  },
  {
   "cell_type": "code",
   "execution_count": null,
   "id": "0d45b30b-935b-44c7-a870-778762088f9a",
   "metadata": {},
   "outputs": [],
   "source": [
    "21"
   ]
  },
  {
   "cell_type": "code",
   "execution_count": null,
   "id": "60a965f6-6256-44f9-8615-9f07ff16e8fb",
   "metadata": {},
   "outputs": [],
   "source": [
    "22"
   ]
  },
  {
   "cell_type": "markdown",
   "id": "880d0509-6643-4aea-b89b-20cf8a46f83f",
   "metadata": {},
   "source": [
    "23. How does polymorphism work in Python with inheritance?\n",
    "Ans: Below is a example showing where one child inherited properties from two parent class and also method has been method over written.\n",
    "class Parent1:     # Multiple inheritance\n",
    "    def parent_info(self):\n",
    "        print(\"This is parent1 property\")\n",
    "class Parent2:\n",
    "    def parent_info(self):\n",
    "        print(\"This is parent2 property\")\n",
    "class Child(Parent1,Parent2):\n",
    "    def parent_info(self):\n",
    "        print(\"Inherited two parent\")\n",
    "obj_ch=Child()\n",
    "obj_ch.parent_info()"
   ]
  },
  {
   "cell_type": "code",
   "execution_count": null,
   "id": "6985734a-eecf-49b0-abaf-dd93a38c5452",
   "metadata": {},
   "outputs": [],
   "source": [
    "24"
   ]
  },
  {
   "cell_type": "code",
   "execution_count": null,
   "id": "62007ed8-997c-4211-9d5e-3369dc4bd730",
   "metadata": {},
   "outputs": [],
   "source": [
    "25"
   ]
  },
  {
   "cell_type": "markdown",
   "id": "8f53e17e-3de9-4b9a-ab55-150860c9303e",
   "metadata": {},
   "source": [
    "Practical"
   ]
  },
  {
   "cell_type": "code",
   "execution_count": 8,
   "id": "f6ad059b-cf18-42a8-b6a0-339a1e3c6c3b",
   "metadata": {},
   "outputs": [
    {
     "name": "stdout",
     "output_type": "stream",
     "text": [
      "Bark!\n"
     ]
    }
   ],
   "source": [
    "'''1. Create a parent class Animal with a method speak() that prints a generic message. Create a child class Dog\n",
    "that overrides the speak() method to print \"Bark!\".'''\n",
    "\n",
    "class Animal:\n",
    "    def speak(self):\n",
    "        print(\"Animal sound\")\n",
    "class Dog(Animal):\n",
    "    def speak(self):\n",
    "        print(\"Bark!\")\n",
    "p=Dog()\n",
    "p.speak()"
   ]
  },
  {
   "cell_type": "code",
   "execution_count": 3,
   "id": "16342068-8572-41c5-8478-d2ef1067bfce",
   "metadata": {},
   "outputs": [
    {
     "data": {
      "text/plain": [
       "'area of circle is pi r **2'"
      ]
     },
     "execution_count": 3,
     "metadata": {},
     "output_type": "execute_result"
    }
   ],
   "source": [
    "'''2. Write a program to create an abstract class Shape with a method area(). Derive classes Circle and Rectangle\n",
    "from it and implement the area() method in both.'''\n",
    "import abc\n",
    "class Shape:\n",
    "    \n",
    "    @abc.abstractmethod\n",
    "    def area(self):\n",
    "        pass\n",
    "class Rectangle(Shape):\n",
    "    def area(self):\n",
    "        return \"Area of rectange is len*breadth\"\n",
    "class Circle(Shape):\n",
    "    def area(self):\n",
    "        return \"area of circle is pi r **2\"\n",
    "\n",
    "cir=Circle()\n",
    "cir.area()"
   ]
  },
  {
   "cell_type": "code",
   "execution_count": 4,
   "id": "f6e35c3b-bd1a-4d9c-aad3-72b01e2bb447",
   "metadata": {},
   "outputs": [
    {
     "data": {
      "text/plain": [
       "'Area of rectange is len*breadth'"
      ]
     },
     "execution_count": 4,
     "metadata": {},
     "output_type": "execute_result"
    }
   ],
   "source": [
    "rect=Rectangle()\n",
    "rect.area()"
   ]
  },
  {
   "cell_type": "code",
   "execution_count": 30,
   "id": "0910e574-96c9-4407-b74c-ab5ff5d08cd0",
   "metadata": {},
   "outputs": [],
   "source": [
    "'''3. Implement a multi-level inheritance scenario where a class Vehicle has an attribute type. Derive a class Car\n",
    "and further derive a class ElectricCar that adds a battery attribute.'''\n",
    "\n",
    "class Vehicle:\n",
    "    def __int__(self,color):\n",
    "        self.color=color\n",
    "    def info(self):\n",
    "        print(f\"Vehicle class with {self.color}\")\n",
    "class Car(Vehicle):\n",
    "    def info(self):\n",
    "        print(\"Car class\")\n",
    "class ElectricCar(Car):\n",
    "    def __init__(self, battery):                       #battery attribute added\n",
    "        self.battery=battery\n",
    "    def info(self):\n",
    "        print(f\"Car class with {self.battery}\")"
   ]
  },
  {
   "cell_type": "code",
   "execution_count": 31,
   "id": "e193eac0-437f-40e5-84b2-ec3aa4cbf6f8",
   "metadata": {},
   "outputs": [
    {
     "name": "stdout",
     "output_type": "stream",
     "text": [
      "Car class with Ultra\n"
     ]
    }
   ],
   "source": [
    "obj=ElectricCar(\"Ultra\")\n",
    "obj.info()"
   ]
  },
  {
   "cell_type": "code",
   "execution_count": 32,
   "id": "5e48913d-17ef-4c07-b60b-b8966fd6a930",
   "metadata": {},
   "outputs": [],
   "source": [
    "'''4. Implement a multi-level inheritance scenario where a class Vehicle has an attribute type. Derive a class Car\n",
    "and further derive a class ElectricCar that adds a battery attribute.'''\n",
    "\n",
    "class Vehicle:\n",
    "    def __int__(self,color):\n",
    "        self.color=color\n",
    "    def info(self):\n",
    "        print(f\"Vehicle class with {self.color}\")\n",
    "class Car(Vehicle):\n",
    "    def info(self):\n",
    "        print(\"Car class\")\n",
    "class ElectricCar(Car):\n",
    "    def __init__(self, battery):                       #battery attribute added\n",
    "        self.battery=battery\n",
    "    def info(self):\n",
    "        print(f\"Car class with {self.battery}\")"
   ]
  },
  {
   "cell_type": "code",
   "execution_count": 33,
   "id": "55c61ab2-7c28-46f6-9e25-f0575cf6f520",
   "metadata": {},
   "outputs": [
    {
     "name": "stdout",
     "output_type": "stream",
     "text": [
      "Car class with New Battery\n"
     ]
    }
   ],
   "source": [
    "obj=ElectricCar(\"New Battery\")\n",
    "obj.info()"
   ]
  },
  {
   "cell_type": "code",
   "execution_count": 34,
   "id": "01219aba-4fef-4d3f-9f4b-023c1e844999",
   "metadata": {},
   "outputs": [],
   "source": [
    "'''5. Write a program to demonstrate encapsulation by creating a class BankAccount with private attributes\n",
    "balance and methods to deposit, withdraw, and check balance.'''\n",
    "\n",
    "class BankAccount: \n",
    "    \n",
    "    def __init__(self, balance):\n",
    "        self.__balance = balance\n",
    "        \n",
    "    def deposit(self, amount): #amount is new deposition\n",
    "        self.__balance = self.__balance + amount\n",
    "    \n",
    "    def withdraw(self, amount):\n",
    "        if self.__balance >= amount:\n",
    "            self.__balance = self.__balance - amount\n",
    "            return True\n",
    "        else:\n",
    "            return False\n",
    "        \n",
    "    def check_balance(self):\n",
    "        return self.__balance"
   ]
  },
  {
   "cell_type": "code",
   "execution_count": 35,
   "id": "6bf1c4a0-a636-49ee-af75-5e5004eee187",
   "metadata": {},
   "outputs": [],
   "source": [
    "obj=BankAccount(10000)"
   ]
  },
  {
   "cell_type": "code",
   "execution_count": 36,
   "id": "03b99a70-7f10-4902-a4d7-f7fd5e9daf79",
   "metadata": {},
   "outputs": [
    {
     "data": {
      "text/plain": [
       "10000"
      ]
     },
     "execution_count": 36,
     "metadata": {},
     "output_type": "execute_result"
    }
   ],
   "source": [
    "obj.check_balance()"
   ]
  },
  {
   "cell_type": "code",
   "execution_count": null,
   "id": "e2c0e840-e7ff-46dd-948b-295b646f23eb",
   "metadata": {},
   "outputs": [],
   "source": []
  },
  {
   "cell_type": "code",
   "execution_count": null,
   "id": "625d8034-cc49-4735-bd23-7ea9001f1788",
   "metadata": {},
   "outputs": [],
   "source": []
  },
  {
   "cell_type": "code",
   "execution_count": null,
   "id": "72c066f3-a1ee-4283-90a3-39cf3bfdf98d",
   "metadata": {},
   "outputs": [],
   "source": []
  },
  {
   "cell_type": "code",
   "execution_count": null,
   "id": "bdaba204-5554-4875-a7ba-a7af8ed082d0",
   "metadata": {},
   "outputs": [],
   "source": []
  },
  {
   "cell_type": "code",
   "execution_count": null,
   "id": "34e686c8-c68c-4b92-8163-c0d2fc1c41fe",
   "metadata": {},
   "outputs": [],
   "source": []
  },
  {
   "cell_type": "code",
   "execution_count": null,
   "id": "9c835569-19eb-40e5-a17b-da3e3af6bdda",
   "metadata": {},
   "outputs": [],
   "source": []
  },
  {
   "cell_type": "code",
   "execution_count": null,
   "id": "b8f09e91-8d55-4858-bc23-fdfeaff1e40c",
   "metadata": {},
   "outputs": [],
   "source": []
  },
  {
   "cell_type": "code",
   "execution_count": 19,
   "id": "e4482bad-6570-4788-8df4-8f93876f2cd7",
   "metadata": {},
   "outputs": [
    {
     "name": "stdout",
     "output_type": "stream",
     "text": [
      "Vehicle class with {self.color}\n"
     ]
    }
   ],
   "source": [
    "obj=Vehicle()\n",
    "obj.info()"
   ]
  },
  {
   "cell_type": "code",
   "execution_count": null,
   "id": "f7470fe7-31b0-40c7-afdc-6b91fad81ae0",
   "metadata": {},
   "outputs": [],
   "source": []
  },
  {
   "cell_type": "code",
   "execution_count": null,
   "id": "089074d8-ca8e-417f-b59a-7d002ae20fb8",
   "metadata": {},
   "outputs": [],
   "source": []
  },
  {
   "cell_type": "code",
   "execution_count": null,
   "id": "f8077cc0-a752-4651-8978-c8c534df8fc6",
   "metadata": {},
   "outputs": [],
   "source": []
  },
  {
   "cell_type": "code",
   "execution_count": null,
   "id": "c8a66a37-fc29-4806-b7ce-c33fc76b470f",
   "metadata": {},
   "outputs": [],
   "source": []
  },
  {
   "cell_type": "code",
   "execution_count": null,
   "id": "4f03428c-fe00-47fd-a152-67a7aa009b8a",
   "metadata": {},
   "outputs": [],
   "source": []
  },
  {
   "cell_type": "code",
   "execution_count": 14,
   "id": "445d6ba2-f4d8-4e56-93e5-a160b9b342a8",
   "metadata": {},
   "outputs": [
    {
     "ename": "NameError",
     "evalue": "name 'battery' is not defined",
     "output_type": "error",
     "traceback": [
      "\u001b[1;31m---------------------------------------------------------------------------\u001b[0m",
      "\u001b[1;31mNameError\u001b[0m                                 Traceback (most recent call last)",
      "Cell \u001b[1;32mIn[14], line 1\u001b[0m\n\u001b[1;32m----> 1\u001b[0m ele\u001b[38;5;241m=\u001b[39mElectricCar()\n\u001b[0;32m      2\u001b[0m ele\u001b[38;5;241m.\u001b[39minfo(\u001b[38;5;124m\"\u001b[39m\u001b[38;5;124mIB\u001b[39m\u001b[38;5;124m\"\u001b[39m)\n",
      "Cell \u001b[1;32mIn[13], line 14\u001b[0m, in \u001b[0;36mElectricCar.__init__\u001b[1;34m(self)\u001b[0m\n\u001b[0;32m     13\u001b[0m \u001b[38;5;28;01mdef\u001b[39;00m \u001b[38;5;21m__init__\u001b[39m(\u001b[38;5;28mself\u001b[39m):\n\u001b[1;32m---> 14\u001b[0m     \u001b[38;5;28mself\u001b[39m\u001b[38;5;241m.\u001b[39mbattery\u001b[38;5;241m=\u001b[39mbattery\n",
      "\u001b[1;31mNameError\u001b[0m: name 'battery' is not defined"
     ]
    }
   ],
   "source": []
  },
  {
   "cell_type": "code",
   "execution_count": null,
   "id": "ba146386-cc84-4bc5-ba2a-6b1f3ab8255c",
   "metadata": {},
   "outputs": [],
   "source": []
  },
  {
   "cell_type": "code",
   "execution_count": null,
   "id": "90d02a69-5c6f-40e5-b84a-19faf4093fdc",
   "metadata": {},
   "outputs": [],
   "source": []
  },
  {
   "cell_type": "code",
   "execution_count": null,
   "id": "ef45ffb9-3901-4d7e-90c4-078a1e28a4ec",
   "metadata": {},
   "outputs": [],
   "source": []
  },
  {
   "cell_type": "code",
   "execution_count": null,
   "id": "68acd522-937f-4f52-8580-7068188fd7be",
   "metadata": {},
   "outputs": [],
   "source": []
  },
  {
   "cell_type": "code",
   "execution_count": null,
   "id": "26868109-f616-4233-89ec-67d3a82238ed",
   "metadata": {},
   "outputs": [],
   "source": []
  },
  {
   "cell_type": "code",
   "execution_count": null,
   "id": "58e5d67b-0203-45e3-bac4-ca2297b598bc",
   "metadata": {},
   "outputs": [],
   "source": []
  },
  {
   "cell_type": "code",
   "execution_count": null,
   "id": "4c369c69-9464-4192-8d2d-e9dab79f5452",
   "metadata": {},
   "outputs": [],
   "source": []
  },
  {
   "cell_type": "code",
   "execution_count": null,
   "id": "d0e1b096-931a-45c1-aa79-7932300a0fdf",
   "metadata": {},
   "outputs": [],
   "source": []
  },
  {
   "cell_type": "code",
   "execution_count": null,
   "id": "cc69b380-e9e3-449d-b9cb-d443ca8ec9ae",
   "metadata": {},
   "outputs": [],
   "source": []
  },
  {
   "cell_type": "code",
   "execution_count": null,
   "id": "15d47ede-354c-4e18-9654-3f2b5fca00f3",
   "metadata": {},
   "outputs": [],
   "source": []
  },
  {
   "cell_type": "code",
   "execution_count": 3,
   "id": "f2a885b1-2071-4d98-8e24-1379f8524f3a",
   "metadata": {},
   "outputs": [
    {
     "name": "stdout",
     "output_type": "stream",
     "text": [
      "Playing Guitar\n",
      "Playing Piano\n"
     ]
    }
   ],
   "source": [
    "'''6. Demonstrate runtime polymorphism using a method play() in a base class Instrument. Derive classes Guitar\n",
    "and Piano that implement their own version of play().'''\n",
    "class Instrument:\n",
    "    def play(self):       #base method\n",
    "        pass\n",
    "class Guiter:             #Child class\n",
    "    def play(self):\n",
    "        print(\"Playing Guitar\")\n",
    "class Piano:              #Child class\n",
    "    def play(self):\n",
    "        print(\"Playing Piano\")\n",
    "obj_guitar=Guiter()\n",
    "obj_guitar.play()\n",
    "obj_Piano=Piano()\n",
    "obj_Piano.play()"
   ]
  },
  {
   "cell_type": "code",
   "execution_count": null,
   "id": "3b2eeef8-7f00-4d81-ad73-768a16281c3a",
   "metadata": {},
   "outputs": [],
   "source": [
    "#7.Create a class MathOperations with a class method add_numbers() to add two numbers and a static\n",
    "method subtract_numbers() to subtract two numbers.\n",
    "\n",
    "\n",
    "class MathOperations:\n",
    "    "
   ]
  },
  {
   "cell_type": "code",
   "execution_count": 17,
   "id": "9eadc58a-02f3-469c-9ca3-a8277aa4f28d",
   "metadata": {},
   "outputs": [
    {
     "name": "stdout",
     "output_type": "stream",
     "text": [
      "The count of total person 3\n"
     ]
    }
   ],
   "source": [
    "#8. Implement a class person with a class method to count the total numbers of persons created.\n",
    "class Person:\n",
    "    def __init__(self,list):\n",
    "        self.list=list\n",
    "    def count(self):\n",
    "        print(\"The count of total person\",len(self.list))\n",
    "obj=Person([\"arun\",\"narun\",\"tarun\"])    #passing a list of persons\n",
    "obj.count()"
   ]
  },
  {
   "cell_type": "code",
   "execution_count": null,
   "id": "dfd37e5b-64cf-4bac-a3dc-fc7d5f4142fd",
   "metadata": {},
   "outputs": [],
   "source": []
  },
  {
   "cell_type": "code",
   "execution_count": null,
   "id": "0d9d104e-b920-4215-a677-6d1599d971f9",
   "metadata": {},
   "outputs": [],
   "source": []
  },
  {
   "cell_type": "code",
   "execution_count": null,
   "id": "ba017423-f25c-44ce-b277-d2160761d014",
   "metadata": {},
   "outputs": [],
   "source": []
  },
  {
   "cell_type": "code",
   "execution_count": null,
   "id": "67a901c3-4547-4a74-9f2a-63e3354faa67",
   "metadata": {},
   "outputs": [],
   "source": []
  },
  {
   "cell_type": "code",
   "execution_count": null,
   "id": "f73a7d4a-8394-4acf-a9c6-69f07484418e",
   "metadata": {},
   "outputs": [],
   "source": []
  },
  {
   "cell_type": "code",
   "execution_count": null,
   "id": "60f306eb-4e3d-463b-9171-0713a35d86bd",
   "metadata": {},
   "outputs": [],
   "source": []
  },
  {
   "cell_type": "code",
   "execution_count": null,
   "id": "a2b2d33c-666e-4b46-ae1c-aa8998f6d9c7",
   "metadata": {},
   "outputs": [],
   "source": []
  },
  {
   "cell_type": "code",
   "execution_count": null,
   "id": "43fe1e76-88f6-4b45-89bb-a527b95256f6",
   "metadata": {},
   "outputs": [],
   "source": []
  },
  {
   "cell_type": "code",
   "execution_count": null,
   "id": "24e18299-7a21-4737-952e-60bfb543cd9b",
   "metadata": {},
   "outputs": [],
   "source": []
  },
  {
   "cell_type": "code",
   "execution_count": null,
   "id": "38e5d4a6-90ad-4e66-a867-ef7fbfcd7ed3",
   "metadata": {},
   "outputs": [],
   "source": []
  },
  {
   "cell_type": "code",
   "execution_count": null,
   "id": "9d888c44-5c2a-4aa9-9043-742f8f86b5d1",
   "metadata": {},
   "outputs": [],
   "source": []
  },
  {
   "cell_type": "code",
   "execution_count": null,
   "id": "a8d26e8a-3734-4429-a153-11802a166b95",
   "metadata": {},
   "outputs": [],
   "source": []
  },
  {
   "cell_type": "code",
   "execution_count": null,
   "id": "9c1faddf-2435-4546-9331-996e1e5e2912",
   "metadata": {},
   "outputs": [],
   "source": []
  },
  {
   "cell_type": "code",
   "execution_count": null,
   "id": "a77bcad3-066c-4089-be8f-757b9a6b6c67",
   "metadata": {},
   "outputs": [],
   "source": []
  },
  {
   "cell_type": "code",
   "execution_count": null,
   "id": "48360c02-68af-40ae-a0ed-031c9b31b0a0",
   "metadata": {},
   "outputs": [],
   "source": []
  },
  {
   "cell_type": "code",
   "execution_count": null,
   "id": "7ad279dc-950c-4aff-8445-dbf8fae1c063",
   "metadata": {},
   "outputs": [],
   "source": []
  },
  {
   "cell_type": "code",
   "execution_count": null,
   "id": "c2883d2a-ab3a-4096-93c7-adfd5fa76753",
   "metadata": {},
   "outputs": [],
   "source": []
  },
  {
   "cell_type": "code",
   "execution_count": null,
   "id": "ebdc44e0-7c75-4ad0-a830-a33398e0faf0",
   "metadata": {},
   "outputs": [],
   "source": []
  },
  {
   "cell_type": "code",
   "execution_count": null,
   "id": "11fab8d2-a0f1-4a98-9642-12ae15e1d164",
   "metadata": {},
   "outputs": [],
   "source": []
  },
  {
   "cell_type": "code",
   "execution_count": 8,
   "id": "32e8401c-6ccb-4c31-b40b-c8386fd3de12",
   "metadata": {},
   "outputs": [
    {
     "name": "stdout",
     "output_type": "stream",
     "text": [
      "Hello, my name is Amit and I am 45 years old.\n"
     ]
    }
   ],
   "source": [
    "'''11. Create a class Person with attribute name and age. Add a method greet() that prints \"Hello, my name is {name} \n",
    "and I am {age} years old.'''\n",
    "\n",
    "class Person:\n",
    "    def __init__(self, name,age):\n",
    "        self.name=name\n",
    "        self.age=age\n",
    "    def greet(self):\n",
    "        print(f\"Hello, my name is {self.name} and I am {self.age} years old.\")\n",
    "obj=Person('Amit',45)\n",
    "obj.greet()"
   ]
  },
  {
   "cell_type": "code",
   "execution_count": null,
   "id": "42db3d3b-3fad-4c5e-af4d-dffcae831466",
   "metadata": {},
   "outputs": [],
   "source": []
  },
  {
   "cell_type": "code",
   "execution_count": null,
   "id": "bb27e97d-8573-4b99-a678-bea6a1c570e4",
   "metadata": {},
   "outputs": [],
   "source": []
  },
  {
   "cell_type": "code",
   "execution_count": null,
   "id": "fd79afdd-9536-4493-8008-bae40cd4ff5d",
   "metadata": {},
   "outputs": [],
   "source": []
  },
  {
   "cell_type": "code",
   "execution_count": null,
   "id": "7cb3659d-246d-4c87-8f75-7b22ab067469",
   "metadata": {},
   "outputs": [],
   "source": []
  },
  {
   "cell_type": "code",
   "execution_count": null,
   "id": "3199a9fc-3370-4a7e-8fba-f0174769ab0f",
   "metadata": {},
   "outputs": [],
   "source": []
  },
  {
   "cell_type": "code",
   "execution_count": null,
   "id": "cef9f948-a8cc-42c1-aa17-7d73e54cc3f6",
   "metadata": {},
   "outputs": [],
   "source": []
  },
  {
   "cell_type": "code",
   "execution_count": null,
   "id": "8d62a0e0-2ba6-4eee-97b7-4991feb0c724",
   "metadata": {},
   "outputs": [],
   "source": []
  },
  {
   "cell_type": "code",
   "execution_count": null,
   "id": "adc4e197-a95d-4545-9925-6093a73c2665",
   "metadata": {},
   "outputs": [],
   "source": []
  }
 ],
 "metadata": {
  "kernelspec": {
   "display_name": "Python 3 (ipykernel)",
   "language": "python",
   "name": "python3"
  },
  "language_info": {
   "codemirror_mode": {
    "name": "ipython",
    "version": 3
   },
   "file_extension": ".py",
   "mimetype": "text/x-python",
   "name": "python",
   "nbconvert_exporter": "python",
   "pygments_lexer": "ipython3",
   "version": "3.11.7"
  }
 },
 "nbformat": 4,
 "nbformat_minor": 5
}
