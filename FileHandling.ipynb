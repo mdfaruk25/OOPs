{
 "cells": [
  {
   "cell_type": "markdown",
   "id": "ad96215b-bfac-4312-b918-bc18a96c6062",
   "metadata": {},
   "source": [
    "1. What is the difference between interpreted and compiled languages?\n",
    "Ans: Interpreted language execute progam codes in line by line and in compiled language execute whole bunch of code in one go.\n",
    "Python is a interpred language but c, c++ etc are compiled language where codes are executed after entire code become error free."
   ]
  },
  {
   "cell_type": "markdown",
   "id": "a78b148f-9ba9-448c-ba7c-1b1587eb12f0",
   "metadata": {},
   "source": [
    "2. What is exception handling in Python?\n",
    "Ans:In programming language exception handling features is available to cop with execution errors. In Python try and except is\n",
    "use for handling exception like ZeroDivisionError,Typeconversion etc. In the below example where division of two number taken \n",
    "place. If user provide nos as input except zero every fine. But, if user provide no2 (second number) as zero then error will \n",
    "occure in order handle error we need to use try and except. Error will be thrown to except part.\n",
    "Ex.\n",
    "    no1=int(input(\"Enter a number\"))\n",
    "no2=int(input(\"Enter another number\"))\n",
    "\n",
    "try:\n",
    "    result=no1/no2\n",
    "    print(\"Division result\",result)\n",
    "except:\n",
    "    print(\"Error occured\")"
   ]
  },
  {
   "cell_type": "markdown",
   "id": "e7aa68bb",
   "metadata": {},
   "source": [
    "3. What is the purpose of the finally block in exception handling?\n",
    "Ans: In the process handling exceptions in program or code we use try and except. If exception found in try block, exception will through to except block. Finally is used with try and except block. Finally will be execute always irrespective of exception occured or not.\n",
    "\n",
    "Ex\n",
    "try:\n",
    "   10/0\n",
    "except Exception as e:\n",
    "    print(\"Exception occured\",e)\n",
    "finally:\n",
    "    print(\"End of code\")"
   ]
  },
  {
   "cell_type": "markdown",
   "id": "58affc6a",
   "metadata": {},
   "source": [
    "4. What is logging in Python?\n",
    "Ans:Logging records the state and flow of program or code or software. It is useful\n",
    "for understandig, monitoring and debugging of your code. It helps to see the behaviour of program or code. Accordingly, corrective measures can be taken in the case of warning,error,critical etc."
   ]
  },
  {
   "cell_type": "markdown",
   "id": "381251d7-886f-4187-b8e7-dfc6cfc6ed5c",
   "metadata": {},
   "source": [
    "5. What is the significance of the __del__ method in Python\n",
    "Ans: This method is used as destructor of initialised attribute of class in Python. It is very helpful to release the resources also help in memory management.__del__ is a destructor method in Python. It is called as soon as all reference of the objects are deleted.__del__ is called after program end."
   ]
  },
  {
   "cell_type": "markdown",
   "id": "15bbe8fe-114a-477f-8989-dfc5c9fa2079",
   "metadata": {},
   "source": [
    "6. What is the difference between import and from ... import in Python\n",
    "Ans: import help us to import libraries from Python. Libraries are collection of pre-written package or modules. from ..import is used when we are trying to import from user defined package, then from modules\n",
    "Ex.\n",
    "import numpy as np                 #Numpy is library in Python for mathematical computation\n",
    "from teacher import teacher_details  # Here, teacher is user defined package and teacher_details is module present inside"
   ]
  },
  {
   "cell_type": "markdown",
   "id": "8cd45f17-ae0d-42a2-b998-a4c5187b7d17",
   "metadata": {},
   "source": [
    "7.  How can you handle multiple exceptions in Python?\n",
    "Ans: In Python we can handle multiple exceptions. Known exception should be place initially then place generic exception.\n",
    "try:\n",
    "    10/0\n",
    "except ZeroDivisionError as e:\n",
    "    print(f\"Error occured:{e}\")\n",
    "except Exception as e:\n",
    "    print(e)"
   ]
  },
  {
   "cell_type": "markdown",
   "id": "9ccbd50e-0eb1-4817-8f45-6b1632ba7298",
   "metadata": {},
   "source": [
    "8. What is the purpose of the with statement when handling files in Python?\n",
    "Ans: In Python we usually need to open a file in read mode i.e r to open a existing file. Also, in order to write we must use write mode i.e w. After writing a file we can not read a file until and unless close the opened file. But, using with statement we no need to close a file in the file handling process. With will take care of free up resources.\n",
    "Ex. with open(\"file.txt\",\"r\") as f:\n",
    "    line=f.read()\n",
    "   print(line)"
   ]
  },
  {
   "cell_type": "markdown",
   "id": "77542c3f-81e6-457d-a3a3-d9236def6f25",
   "metadata": {},
   "source": [
    "9. What is the difference between multithreading and multiprocessing\n",
    "Ans. Multithreading is a concept in programming where one processor is executing a process in forms of multiple thread and execute concurrently switching between the threads. Parallel computation is not occured in the process of multithreading.\n",
    "Multiprocessing is a concept where programs or process execute in parallel manner in multiple processor which makes execution faster than single processor system."
   ]
  },
  {
   "cell_type": "markdown",
   "id": "3386a0d3-2ccd-403d-bdb6-7c13bb670663",
   "metadata": {},
   "source": [
    "10. What are the advantages of using logging in a program?\n",
    "Ans: Using logging in Python we can keep log record of program and help us to detect exact cause of error and help us to debug the code.\n",
    "Ex\n",
    "import logging\n",
    "logging.basicConfig(filename=\"filehandl2.log\", level=logging.DEBUG, format='%(asctime)s %(levelname)s %(message)s')\n",
    "try:\n",
    "    10/0\n",
    "except ZeroDivisionError:\n",
    "    logging.info(\"Division by zero error\")\n",
    "    logging.shutdown()"
   ]
  },
  {
   "cell_type": "markdown",
   "id": "7bcbabc3",
   "metadata": {},
   "source": [
    "11. What is memory management in Python?\n",
    "Ans.Python memory management is the process of allocating and dealing with memory so that programs can run efficiently. One advantage of Python, compared to other programming languages, is that it can perform memory management tasks automatically. using with statement we can free up resources allocated in the process of file handling.\n",
    "While we doing file operation file opened for any operation must be closed to avoid data corruption."
   ]
  },
  {
   "cell_type": "markdown",
   "id": "ebea82d0-ec2a-4d5a-8a58-f67073270b80",
   "metadata": {},
   "source": [
    "12. What are the basic steps involved in exception handling in Python\n",
    "Ans: In Python in order to handle exception during execution of program or code, try except basically used. We can also use finally and else block also. We should keep known exception first then we may use generic exception. Finally block will be executed always.\n",
    "Ex.\n",
    "try:\n",
    "    10/0\n",
    "    \n",
    "except ZeroDivisionError:\n",
    "    print(\"Divide by zero error found\")\n",
    "except Exception as e:\n",
    "    print(e)\n",
    "finally:\n",
    "    print(\"Execution end\")"
   ]
  },
  {
   "cell_type": "markdown",
   "id": "d8933b03",
   "metadata": {},
   "source": [
    "13. Why is memory management important in Python?\n",
    "Ans. The Python programming language is capable of handling memory automatically, unlike some others, its memory manager provides space for new objects while removing unused objects to open space. By free up resources after execution, resource may be allocated for other processes waiting of resources. In this way program execution become faster."
   ]
  },
  {
   "cell_type": "markdown",
   "id": "4cd295d6-ada5-4839-8a98-7555d4df13f1",
   "metadata": {},
   "source": [
    "14. What is the role of try and except in exception handling?\n",
    "Ans: In the process execution of program or code we may face some error due to which entire program or software crash. In order\n",
    "to avoid such situation we use exception handling. For that purpose we use try and except.\n",
    "We place the suspicious code within try block and except block written to catch the exception occured in try block while \n",
    "executing try block."
   ]
  },
  {
   "cell_type": "markdown",
   "id": "b27ac5e1",
   "metadata": {},
   "source": [
    "15. How does Python's garbage collection system work?\n",
    "Ans: Garbage collection, an automatic memory management technique, is used by programming languages to deallocate memory that is no longer required by the program. The garbage collector in Python locates and releases memory occupied by objects that can no longer be accessed or referenced by the program's code."
   ]
  },
  {
   "cell_type": "markdown",
   "id": "f71bc759-3503-4fda-b62b-56fed5d73fb9",
   "metadata": {},
   "source": [
    "16. What is the purpose of the else block in exception handling?\n",
    "Ans: Else block is useful when Python code donot enter into exception part means code do not through exception. Below mention code where when program donot enter in except block then else block will be executed. If exception occurs then else block will not be executed.\n",
    "Ex.\n",
    "try:\n",
    "    10/2\n",
    "except Exception as e:\n",
    "    print(e)\n",
    "else:\n",
    "    print(\"Else block\")"
   ]
  },
  {
   "cell_type": "markdown",
   "id": "1823b81a-575d-47b5-b9e5-ab10b63665dd",
   "metadata": {},
   "source": [
    "17. What are the common logging levels in Python?\n",
    "Ans: There are common logging levels in Python are\n",
    "1) INFO\n",
    "2) DEBUG\n",
    "3) ERROR\n",
    "4) WARNING\n",
    "5) CRITICAL"
   ]
  },
  {
   "cell_type": "markdown",
   "id": "2042ee74-7648-4805-9518-81a7f6e9563c",
   "metadata": {},
   "source": [
    "18. What is the difference between os.fork() and multiprocessing in Python?..\n",
    "Ans. os.fork() fork() method creates a copy of the process that has called it. Executing os. fork() creates two processes: A parent process and a child process. It returns 0 in the child process, and the child's process id in the parent process.\n",
    "Multiprocessing refers to the ability of a system to run multiple processors in parallel, where each processor can run one or more threads."
   ]
  },
  {
   "cell_type": "markdown",
   "id": "e87c8ed8-03ce-4627-bdd4-2c4310c676c7",
   "metadata": {},
   "source": [
    "19. What is a importance of closing a file in Python?\n",
    "Ans: Whenever we open a file in any mode, it should be close after used. Other wise, data may be lost while program crash.\n",
    "Also, if we open a file in write mode we will not able able to read the file until and unless we close the file. That is\n",
    "why file closing is necessary after use."
   ]
  },
  {
   "cell_type": "markdown",
   "id": "99f6c296-a68d-4b55-95b2-30d8470ac14b",
   "metadata": {},
   "source": [
    "20. What is the difference between file.read() and file.readline() in Python?\n",
    "Ans. In the process of file handling in Python file.read() used to read all the line present in the file. \n",
    "On other hand file.readline() return one line from the particular file opened.\n",
    "Ex.\n",
    "    file=open('test.txt','r')   # opening a existing file with content\n",
    "    file.read()                 # will return all the line\n",
    "    file.readline()             # will return one line from the file"
   ]
  },
  {
   "cell_type": "markdown",
   "id": "0b184a8a-135f-45e5-bd9f-b5aeb9cfac5e",
   "metadata": {},
   "source": [
    "21.What is the logging module in Python used for?\n",
    "Ans: Using logging in Python we can keep log record of program and help us to detect exact cause of error and help us to debug the code.\n",
    "Ex.\n",
    "import logging\n",
    "logging.basicConfig(filename=\"filehandl.log\", level=logging.DEBUG, format='%(asctime)s %(levelname)s %(message)s')\n",
    "try:\n",
    "    file=open(\"file101.txt\",\"r\")\n",
    "except FileNotFoundError:\n",
    "    print(\"File is not exist\")\n",
    "    logging.info(\"File is not exist\")\n",
    "    logging.shutdown()"
   ]
  },
  {
   "cell_type": "markdown",
   "id": "6bf34d95-4232-4c12-ba74-5aff6550e07f",
   "metadata": {},
   "source": [
    "22. What is the os module in Python used for in file handling?\n",
    "\n",
    "Ans. os module is a helpful in file handling. By importing os module in Python progam or code user can interect with Operating system. Using os module in Python code we can create file, directories. Also, we can copy, move file from source to destination by using os module in Python code/script.\n",
    "ex.\n",
    "import os\n",
    "os.mkdir(\"Folder1\")   # create a folder in the name Folder1"
   ]
  },
  {
   "cell_type": "markdown",
   "id": "dc6ed58f-653b-4b4c-b7f2-2168d7dbbd98",
   "metadata": {},
   "source": [
    "23. What are the challenges associated with memory management in Python\n",
    "Ans: There are various challenges associated with memory management in Python. Whenever we run a program resources have used. In that process after completion of execution resources allocated should be free for others. Then only performance of program execution can be achieved. For these purpose we use Multithreading, Multiprocessing. Process run in concurrently to give desired output in less time."
   ]
  },
  {
   "cell_type": "markdown",
   "id": "d4957e16-95b0-4661-8615-f64e5ad89ef9",
   "metadata": {},
   "source": [
    "24. How do you raise an exception manually in Python?\n",
    "Ans: By using raise in Python developer can raise exception manually.It is basically to write user defined code to catch exceptions.\n",
    "Ex.\n",
    "class NegativeValue(Exception):\n",
    "    pass\n",
    "def check_negative(num):\n",
    "    if num<0:\n",
    "        raise NegativeValue(\"Negative number not allowed\")\n",
    "try:\n",
    "    check_negative(-2)\n",
    "except NegativeValue as e:\n",
    "    print(e)"
   ]
  },
  {
   "cell_type": "markdown",
   "id": "ffb15dde-cb47-45b6-b7c0-cbc28e736bd5",
   "metadata": {},
   "source": [
    "25. Why is it important to use multithreading in certain applications?\n",
    "\n",
    "Ans: Multithreading is very important for the various benefit\n",
    "a) Improved performance: Multithreading imporved significant enhance in the execution of a program or code with help of parallel computation.\n",
    "b) Resource utilization: In Multithreading programs are devided into smaller part and execute separately and imporved available resource utilization and imporove ovarall system resouce utilization\n",
    "c) Concurrency: In Multithreading program or code split up and execute concurrently and reduces execution time\n",
    "d) Responsiveness: User get good exerience while using Graphical User Interfaces due to Multithreading and improve application performance.\n"
   ]
  },
  {
   "cell_type": "markdown",
   "id": "0cc35f22-e908-4043-b4f0-4a53a56016c3",
   "metadata": {},
   "source": [
    "Practical Questions"
   ]
  },
  {
   "cell_type": "code",
   "execution_count": 6,
   "id": "a40f8b50-c940-4947-ad8b-e665d2902836",
   "metadata": {},
   "outputs": [],
   "source": [
    "#1. How can you open a file for writing in Python and write a string to it?\n",
    "file=open(\"file_handling.txt\",\"w\")           #opening file in write mode\n",
    "file.write(\"This is a assignment question.\\n This is related to Python\")  # writing to the text file\n",
    "file.close()"
   ]
  },
  {
   "cell_type": "code",
   "execution_count": 8,
   "id": "0c143c63-25f2-4156-bb89-1c963bda566a",
   "metadata": {},
   "outputs": [
    {
     "name": "stdout",
     "output_type": "stream",
     "text": [
      "This is a assignment question.\n",
      "\n",
      " This is related to Python\n"
     ]
    }
   ],
   "source": [
    "#2. Write a Python program to read the contents of a file and print each line.\n",
    "file=open(\"file_handling.txt\",\"r\")\n",
    "for i in file:\n",
    "    print(i)"
   ]
  },
  {
   "cell_type": "code",
   "execution_count": 9,
   "id": "4279682d-9235-4499-8beb-9c373a6ece92",
   "metadata": {},
   "outputs": [
    {
     "name": "stdout",
     "output_type": "stream",
     "text": [
      "File is not available to read\n"
     ]
    }
   ],
   "source": [
    "#3. How would you handle a case where the file doesn't exist while trying to open it for reading?\n",
    "\n",
    "try:\n",
    "    file=open(\"pythonfile.txt\",\"r\")\n",
    "except:\n",
    "    print(\"File is not available to read\")"
   ]
  },
  {
   "cell_type": "code",
   "execution_count": 1,
   "id": "1a18bc99-8be2-4145-834a-ff43be092902",
   "metadata": {},
   "outputs": [],
   "source": [
    "#4.Write a Python script that reads from one file and writes its content in another file\n",
    "\n",
    "file1=open(\"file_handling.txt\",\"r\")\n",
    "file2=open(\"file_new.txt\",\"w\")\n",
    "for i in file1:\n",
    "    file2.write(i)\n",
    "file1.close()\n",
    "file2.close()"
   ]
  },
  {
   "cell_type": "code",
   "execution_count": null,
   "id": "b915c436-2f03-4dab-bbbf-17867342eacc",
   "metadata": {},
   "outputs": [],
   "source": []
  },
  {
   "cell_type": "code",
   "execution_count": 1,
   "id": "f56017cc-880b-42f0-aa0f-a45db18c8765",
   "metadata": {},
   "outputs": [
    {
     "name": "stdout",
     "output_type": "stream",
     "text": [
      "Enter first number: 1\n",
      "Enter second number: 0\n"
     ]
    },
    {
     "name": "stdout",
     "output_type": "stream",
     "text": [
      "Divide by zero error found\n"
     ]
    }
   ],
   "source": [
    "#5. How would you catch and handle division by zero error in Python?\n",
    "num1=int(input(\"Enter first number:\"))\n",
    "num2=int(input(\"Enter second number:\"))\n",
    "try:\n",
    "    res_div=num1/num2\n",
    "    print(\"Result of division is:\", res_div)\n",
    "except ZeroDivisionError:\n",
    "    print(\"Divide by zero error found\")"
   ]
  },
  {
   "cell_type": "code",
   "execution_count": null,
   "id": "3bfdc8bb-6834-4da8-9f2b-acf235c759a9",
   "metadata": {},
   "outputs": [],
   "source": [
    "#6. Write a program that logs an error message to a log file when a division by zero exception occurs\n",
    "\n",
    "import logging\n",
    "logging.basicConfig(filename=\"logrec1.log\", level=logging.DEBUG, format='%(asctime)s %(levelname)s %(message)s')\n",
    "try:\n",
    "    100/0\n",
    "except ZeroDivisionError:\n",
    "    logging.error(\"Division by zero error\")             #error message"
   ]
  },
  {
   "cell_type": "code",
   "execution_count": 3,
   "id": "b640851b-fe6a-4946-b2e1-245bb1b53073",
   "metadata": {},
   "outputs": [],
   "source": [
    "#7. How do you log information at different levels (INFO, ERROR, WARNING) in Python using the logging module?\n",
    "\n",
    "import logging\n",
    "logging.basicConfig(filename=\"logrec.log\", level=logging.DEBUG, format='%(asctime)s %(levelname)s %(message)s')\n",
    "logging.info(\"This is info message\")\n",
    "logging.warning(\"This is warning message\")\n",
    "logging.error(\"This is error message\")\n",
    "logging.shutdown()"
   ]
  },
  {
   "cell_type": "code",
   "execution_count": 2,
   "id": "cee55d6c-254c-4d83-906d-2eb0efee737f",
   "metadata": {},
   "outputs": [
    {
     "name": "stdout",
     "output_type": "stream",
     "text": [
      "File is not exist\n"
     ]
    }
   ],
   "source": [
    "#8. Write a program to handle a file opening error using exception handling.\n",
    "try:\n",
    "    file=open(\"pythonfile1.txt\",\"r\")\n",
    "except FileNotFoundError:\n",
    "    print(\"File is not exist\")"
   ]
  },
  {
   "cell_type": "code",
   "execution_count": 21,
   "id": "a255ef4a-bc1e-43a7-a920-e6fac8313098",
   "metadata": {},
   "outputs": [
    {
     "name": "stdout",
     "output_type": "stream",
     "text": [
      "List: ['Arun is good boy\\n', 'This is a new book\\n', 'How are you']\n"
     ]
    }
   ],
   "source": [
    "#9. How can your read a file line by line and store its content in a list in Python?\n",
    "\n",
    "file1=open(\"new.txt\",\"r\")\n",
    "ele_list=[]\n",
    "for i in file1:\n",
    "    ele_list.append(i)\n",
    "file1.close()\n",
    "print(\"List:\",ele_list)"
   ]
  },
  {
   "cell_type": "code",
   "execution_count": 19,
   "id": "9905769a-5861-4d7e-bc69-9c7a9def8f1d",
   "metadata": {},
   "outputs": [],
   "source": [
    "#10. How can you append data to an existing file in Python?\n",
    "\n",
    "file=open(\"file_handling.txt\",\"a\")\n",
    "file.write(\"\\nThis is a appended text\")   # New text appended to existing file\n",
    "file.close()"
   ]
  },
  {
   "cell_type": "code",
   "execution_count": 12,
   "id": "3fa5a479-adfa-4087-bbc7-aed2eca5cebb",
   "metadata": {},
   "outputs": [
    {
     "name": "stdout",
     "output_type": "stream",
     "text": [
      "Key Error found:'gender'\n"
     ]
    }
   ],
   "source": [
    "'''11. Write a Python program that use s a try-except block to handle an error when attempting to access a dictionary key that\n",
    "does not exist'''\n",
    "\n",
    "student={\"name\":\"arup\",\"age\":23}\n",
    "try:\n",
    "        student[\"gender\"]\n",
    "except KeyError as e:\n",
    "        print(f\"Key Error found:{e}\")\n"
   ]
  },
  {
   "cell_type": "code",
   "execution_count": null,
   "id": "55abe139-4180-494a-9a16-c3579890ac96",
   "metadata": {},
   "outputs": [],
   "source": [
    "#12. Write a program that demonstrates using multiple except blocks to handle different types of exceptions\n",
    "try:\n",
    "    #a/0   #ZeroDivisionError\n",
    "    a-0   #Name error\n",
    "except ZeroDivisionError as e:\n",
    "    print(f\"Error occured:{e}\")\n",
    "except TypeError as e:\n",
    "    print(f\"Error occured:{e}\")\n",
    "except NameError as e:\n",
    "    print(f\"Error occured:{e}\")\n",
    "except Exception as e:\n",
    "    print(e)"
   ]
  },
  {
   "cell_type": "code",
   "execution_count": 1,
   "id": "35517512-54ed-4d44-8bec-e0c08e07810e",
   "metadata": {},
   "outputs": [
    {
     "name": "stdout",
     "output_type": "stream",
     "text": [
      "This is a assignment question.\n",
      " This is related to PythonThis is a appended text\n",
      "This is a appended text\n"
     ]
    }
   ],
   "source": [
    "#13. How would you check if a file exists before attempting to read it in Python?\n",
    "import os.path\n",
    "if os.path.exists('file_new.txt')==True:\n",
    "    file=open('file_new.txt','r')\n",
    "    print(file.read())\n",
    "else:\n",
    "    print(\"file not exist\")"
   ]
  },
  {
   "cell_type": "code",
   "execution_count": 1,
   "id": "aaf5561d-ea35-409f-ad70-e2bca4f4628d",
   "metadata": {},
   "outputs": [],
   "source": [
    "#14. Write a program that uses the logging module to log both informational and error messages.\n",
    "\n",
    "import logging\n",
    "logging.basicConfig(filename=\"fileQ.log\", level=logging.DEBUG, format='%(asctime)s %(levelname)s %(message)s')\n",
    "try:\n",
    "    10/0\n",
    "except ZeroDivisionError:\n",
    "    logging.info(\"Division by zero error\")       #informational \n",
    "    logging.error(\"You can no divide number by zero\")   #error message\n",
    "    logging.shutdown()\n",
    "    #print(\"Hello\")"
   ]
  },
  {
   "cell_type": "code",
   "execution_count": null,
   "id": "2e8a670d-09c5-4136-855a-b5aa7a8725c5",
   "metadata": {},
   "outputs": [],
   "source": []
  },
  {
   "cell_type": "code",
   "execution_count": 11,
   "id": "1bb2dd0d-5b20-43dc-873d-7a1cd3622096",
   "metadata": {},
   "outputs": [
    {
     "name": "stdout",
     "output_type": "stream",
     "text": [
      "Empty file\n"
     ]
    }
   ],
   "source": [
    "#15. Write a Python program that prints the content of a file and handles the case when the file is empty\n",
    "f11=open(\"newfile2.txt\",\"r\")\n",
    "\n",
    "def display():\n",
    "    f11=open(\"new_file.txt\",\"r\")\n",
    "    print(f11.read())\n",
    "l=len(f11.read())\n",
    "#print(type(l),l)\n",
    "if l>0:\n",
    "    display()\n",
    "    print(\"if\")\n",
    "else:\n",
    "    print(\"Empty file\")\n",
    "f11.close()"
   ]
  },
  {
   "cell_type": "code",
   "execution_count": 5,
   "id": "aa860d33-d294-404a-a3ac-6284c50b4d0e",
   "metadata": {},
   "outputs": [
    {
     "name": "stdout",
     "output_type": "stream",
     "text": [
      "88 bytes\n"
     ]
    }
   ],
   "source": [
    "#16. Demonstrate how to use memory profiling to check the memory usage of a small program\n",
    "import sys\n",
    "a=[100,203,456,68]\n",
    "print(sys.getsizeof(a),\"bytes\")    #get memory usage"
   ]
  },
  {
   "cell_type": "code",
   "execution_count": 20,
   "id": "deaae1da-1758-4873-a083-f92665aeda7c",
   "metadata": {},
   "outputs": [
    {
     "name": "stdout",
     "output_type": "stream",
     "text": [
      "\n",
      "\n",
      "\n",
      "\n",
      "\n",
      "\n",
      "\n",
      "\n"
     ]
    }
   ],
   "source": [
    "#17. Write a Python program to create and write a list of numbers to a file, one number per line.\n",
    "file=open(\"list.txt\",\"w\")      #file open in write mode\n",
    "list=[1,3,56,9]                # list to be enter in file\n",
    "for i in list:\n",
    "    file.write(str(i)+\"\\n\")    # allow to pass one element so +\"\\n\"\n",
    "    print(\"\\n\")\n",
    "file.close()"
   ]
  },
  {
   "cell_type": "code",
   "execution_count": 2,
   "id": "8fa20c3f-8411-4337-957b-e5f28cc748d2",
   "metadata": {},
   "outputs": [
    {
     "name": "stdout",
     "output_type": "stream",
     "text": [
      "Key Error found\n",
      "Index Error found\n"
     ]
    }
   ],
   "source": [
    "#19.Write a program that handles both IndexError and KeyError using a try--except block.\n",
    "list=[3,5,6]\n",
    "student={\"name\":\"arup\",\"age\":23}\n",
    "def fun_list(list):\n",
    "    try:\n",
    "        list[4]\n",
    "    except IndexError:\n",
    "        print(\"Index Error found\")\n",
    "def fun_dic(student):\n",
    "    try:\n",
    "        s=student[\"gender\"]\n",
    "    except KeyError:\n",
    "        print(\"Key Error found\")\n",
    "fun_dic(student)\n",
    "fun_list(list)"
   ]
  },
  {
   "cell_type": "code",
   "execution_count": 1,
   "id": "b7bf0dc2",
   "metadata": {},
   "outputs": [
    {
     "name": "stdout",
     "output_type": "stream",
     "text": [
      "This is a assignment question.\n",
      " This is related to PythonThis is a appended text\n",
      "This is a appended text\n"
     ]
    }
   ],
   "source": [
    "#20. How would you open a file and read its contents using a context manager in Python\n",
    "with open(\"file_new.txt\",\"r\") as f:   #open a existing file\n",
    "    line=f.read()\n",
    "    print(line)"
   ]
  },
  {
   "cell_type": "code",
   "execution_count": 9,
   "id": "1f207b2c-474b-4e84-8505-873cf88e7c5c",
   "metadata": {},
   "outputs": [
    {
     "name": "stdout",
     "output_type": "stream",
     "text": [
      "This is my first file creation using pythonThis is a new line addedThis is a new line added\n",
      "No of occurance of word is: 3\n"
     ]
    }
   ],
   "source": [
    "#21. Write a Python program that reads a file and prints the number of occurance of a specific word\n",
    "\n",
    "def word_infile(file,word):\n",
    "    file=open(file,'r')\n",
    "    text=file.read()\n",
    "    print(text)\n",
    "    return text.count(word)\n",
    "print(\"No of occurance of word is:\",word_infile(\"new_file.txt\",\"This\"))  #finding This word"
   ]
  },
  {
   "cell_type": "code",
   "execution_count": 3,
   "id": "7f736e06-9a6c-41d2-921f-d87ebde67429",
   "metadata": {},
   "outputs": [
    {
     "name": "stdout",
     "output_type": "stream",
     "text": [
      "Empty file\n"
     ]
    }
   ],
   "source": [
    "#22. How can you check if a file is empty before attempting to read its contents\n",
    "f10=open(\"newfile2.txt\",\"r\")\n",
    "if len(f10.read())!=0:\n",
    "    print(f10.read())\n",
    "else:\n",
    "    print(\"Empty file\")\n",
    "f10.close()"
   ]
  },
  {
   "cell_type": "code",
   "execution_count": null,
   "id": "243a5b8e-1071-428c-bbe6-8dc85aab18c8",
   "metadata": {},
   "outputs": [],
   "source": []
  },
  {
   "cell_type": "code",
   "execution_count": 4,
   "id": "a214ac33-672c-4d96-8e12-211837a29350",
   "metadata": {},
   "outputs": [
    {
     "name": "stdout",
     "output_type": "stream",
     "text": [
      "File is not exist\n"
     ]
    }
   ],
   "source": [
    "#23. Write a Python program that writes to a log file when an error occurs during file handling.\n",
    "import logging\n",
    "logging.basicConfig(filename=\"filehandl3.log\", level=logging.DEBUG, format='%(asctime)s %(levelname)s %(message)s')\n",
    "try:\n",
    "    file=open(\"file100.txt\",\"r\")\n",
    "except FileNotFoundError:\n",
    "    print(\"File is not exist\")\n",
    "    #logging.debug(\"This is message for debug\")\n",
    "    logging.info(\"File not found\")\n",
    "    logging.shutdown()"
   ]
  }
 ],
 "metadata": {
  "kernelspec": {
   "display_name": "Python 3 (ipykernel)",
   "language": "python",
   "name": "python3"
  },
  "language_info": {
   "codemirror_mode": {
    "name": "ipython",
    "version": 3
   },
   "file_extension": ".py",
   "mimetype": "text/x-python",
   "name": "python",
   "nbconvert_exporter": "python",
   "pygments_lexer": "ipython3",
   "version": "3.11.7"
  }
 },
 "nbformat": 4,
 "nbformat_minor": 5
}
